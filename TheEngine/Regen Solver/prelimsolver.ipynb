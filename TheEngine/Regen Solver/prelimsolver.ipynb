{
 "cells": [
  {
   "cell_type": "markdown",
   "id": "09f90e8a-0976-4a66-bf33-a6d77fd63d3a",
   "metadata": {},
   "source": [
    "# Preliminary Regen Solver"
   ]
  },
  {
   "cell_type": "markdown",
   "id": "64bebf57-730f-44dd-bb36-096b241ad40c",
   "metadata": {},
   "source": [
    "### Import libraries"
   ]
  },
  {
   "cell_type": "code",
   "execution_count": 11,
   "id": "1e0852b3-cd06-42c1-8b35-1a9a338a8d76",
   "metadata": {},
   "outputs": [],
   "source": [
    "# general\n",
    "import os\n",
    "import numpy as np\n",
    "\n",
    "# thermo\n",
    "import cantera as ct\n",
    "\n",
    "# visualization / other\n",
    "import matplotlib.pyplot as plt"
   ]
  },
  {
   "cell_type": "markdown",
   "id": "77ba0031-54f1-47fd-8335-5312f71fb2d3",
   "metadata": {},
   "source": [
    "### Main parameter defintions\n",
    "Define the main parameters below:"
   ]
  },
  {
   "cell_type": "code",
   "execution_count": 12,
   "id": "eca691ba-fd26-4faa-a5a1-8c23886982ed",
   "metadata": {},
   "outputs": [],
   "source": [
    "P0 = 2.758e+6 # First Chamber (Stagnation) Pressure Guess [Pa]\n",
    "Ti = 300      # First Chamber Inlet Temperature Guess [K]\n",
    "OF = 10.2     # OF ratio used"
   ]
  },
  {
   "cell_type": "markdown",
   "id": "771684d2-ac62-4644-9ae3-4ac9bd207c41",
   "metadata": {},
   "source": [
    "### Using Cantera to Find Exhaust Gas Properties in Chamber"
   ]
  },
  {
   "cell_type": "code",
   "execution_count": 13,
   "id": "8622316b-e1b9-4737-9929-ca175e8b4701",
   "metadata": {},
   "outputs": [
    {
     "name": "stdout",
     "output_type": "stream",
     "text": [
      "Enthalpy: 1441245.9601456434 [J]\n",
      "Stagnation temperature: 3281.188239511196 [K]\n",
      "Specific heat ratio: 1.2405024045277944 [-]\n",
      "Mean molecular weight: 26.203541670258993 [kg/kmol]\n"
     ]
    }
   ],
   "source": [
    "# Define gas\n",
    "gas = ct.Solution('gri30.yaml')          \n",
    "mixture = \"C2H6:1, N2O:{}\".format(OF)    # define mixture via mixture string\n",
    "gas.TPY = Ti, P0, mixture              # define state of gas before chemical balance\n",
    "gas.equilibrate(\"HP\")                  # equilibrate keeping enthalpy and pressure constant\n",
    "\n",
    "# Extract Preliminary Gas Properties\n",
    "h0 = gas.h  # gas enthalpy [J]\n",
    "T0 = gas.T  # stagnation temperature [K]\n",
    "kc = gas.cp / gas.cv # specific heat ratio in chamber\n",
    "MW = gas.mean_molecular_weight # average molecular weight of gas [kg / kmol]\n",
    "\n",
    "# Print Properties\n",
    "print(\"Enthalpy:\", h0, \"[J]\\nStagnation temperature:\", T0, \"[K]\\nSpecific heat ratio:\", kc, \"[-]\\nMean molecular weight:\", MW, \"[kg/kmol]\")"
   ]
  },
  {
   "cell_type": "code",
   "execution_count": null,
   "id": "0b8f7a34-4071-417d-97f6-30551661bb1d",
   "metadata": {},
   "outputs": [],
   "source": []
  }
 ],
 "metadata": {
  "kernelspec": {
   "display_name": "Python 3 (ipykernel)",
   "language": "python",
   "name": "python3"
  },
  "language_info": {
   "codemirror_mode": {
    "name": "ipython",
    "version": 3
   },
   "file_extension": ".py",
   "mimetype": "text/x-python",
   "name": "python",
   "nbconvert_exporter": "python",
   "pygments_lexer": "ipython3",
   "version": "3.9.7"
  }
 },
 "nbformat": 4,
 "nbformat_minor": 5
}
