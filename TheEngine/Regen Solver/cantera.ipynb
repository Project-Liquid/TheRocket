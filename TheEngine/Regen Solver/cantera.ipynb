{
 "cells": [
  {
   "cell_type": "markdown",
   "id": "c1d91a55-6ece-4d50-9a2f-31acf12e4dff",
   "metadata": {},
   "source": [
    "# Cantera Introduction\n",
    "The following is a short run through of some cantera functionalities based on:\n",
    "- [Cantera Python Tutorial](https://cantera.org/tutorials/python-tutorial.html)\n",
    "- [Cantera Documentation](https://cantera.org/documentation/index.html)\n",
    "- [CUSF Bamboo Cantera Example](https://github.com/cuspaceflight/bamboo/blob/master/examples/Cantera%20Example.ipynb)\n",
    "- [GRI-Mech Website](http://combustion.berkeley.edu/gri-mech/)"
   ]
  },
  {
   "cell_type": "markdown",
   "id": "bda684fd-a6fc-4c7e-95f3-f84063c1b734",
   "metadata": {},
   "source": [
    "Several reaction mechanism files (.yaml files - plain text files) are included with Cantera, including ones that model high-temperature air, a hydrogen/oxygen reaction mechanism, and a few surface reaction mechanisms."
   ]
  },
  {
   "cell_type": "code",
   "execution_count": 74,
   "id": "82bd6a13-ae91-4294-a454-c4e520fd1616",
   "metadata": {},
   "outputs": [],
   "source": [
    "import cantera as ct\n",
    "import numpy as np"
   ]
  },
  {
   "cell_type": "code",
   "execution_count": 75,
   "id": "7685e1a3-d3b6-4126-91f0-b8a8cb6521a1",
   "metadata": {},
   "outputs": [],
   "source": [
    "gas1 = ct.Solution('gri30.yaml') # choose mechanism for the solution"
   ]
  },
  {
   "cell_type": "code",
   "execution_count": 76,
   "id": "cb156e3a-1a48-4d9a-b987-cfa6336f91f4",
   "metadata": {},
   "outputs": [],
   "source": [
    "# Display gas properties\n",
    "# gas1()"
   ]
  },
  {
   "cell_type": "markdown",
   "id": "404fc2a9-89b8-40a6-9968-d8f4935212a1",
   "metadata": {},
   "source": [
    "Thermodynamics generally requires that two properties in addition to composition information be specified to fix the intensive state of a substance (or mixture). The state of the mixture can be set using several combinations of two properties. The following are all equivalent:"
   ]
  },
  {
   "cell_type": "code",
   "execution_count": 77,
   "id": "bf121265-0fda-45c7-9093-99059800dfb1",
   "metadata": {},
   "outputs": [],
   "source": [
    "gas1.TP = 1200, 101325           # temperature, pressure\n",
    "gas1.TD = 1200, 0.0204723        # temperature, density\n",
    "gas1.HP = 1.32956e7, 101325      # specific enthalpy, pressure\n",
    "gas1.UV = 8.34619e6, 1/0.0204723 # specific internal energy, specific volume\n",
    "gas1.SP = 85227.6, 101325        # specific entropy, pressure\n",
    "gas1.SV = 85227.6, 1/0.0204723   # specific entropy, specific volume"
   ]
  },
  {
   "cell_type": "markdown",
   "id": "48eb8adf-30d9-4bb2-993e-1b61905b4fbe",
   "metadata": {},
   "source": [
    "Properties may be read independently or together:"
   ]
  },
  {
   "cell_type": "code",
   "execution_count": 78,
   "id": "3215cf6d-8714-4cff-b4e3-4dab2a6c39d5",
   "metadata": {},
   "outputs": [
    {
     "name": "stdout",
     "output_type": "stream",
     "text": [
      "1200.5188172713504\n",
      "13302755.250164837\n",
      "(8351530.632807602, 48.84649013545132)\n"
     ]
    }
   ],
   "source": [
    "print(gas1.T)\n",
    "print(gas1.h)\n",
    "print(gas1.UV)"
   ]
  },
  {
   "cell_type": "markdown",
   "id": "ba96e707-dcba-49fe-83df-e80eddffe6cc",
   "metadata": {},
   "source": [
    "The composition can be set in terms of either mole fractions (X) or mass fractions (Y). Mass and mole fractions can be set using dict objects, which is convenient in cases where the composition is stored in a variable or being computed:"
   ]
  },
  {
   "cell_type": "code",
   "execution_count": 79,
   "id": "7abaf545-5f48-4180-a43a-fff498e86eaa",
   "metadata": {},
   "outputs": [],
   "source": [
    "phi = 0.8\n",
    "gas1.Y = {'CH4':1, 'O2':2/phi, 'N2':2*3.76/phi} # setting mass fraction"
   ]
  },
  {
   "cell_type": "markdown",
   "id": "76e8b882-49dd-4c2e-bb41-6722ba710c66",
   "metadata": {},
   "source": [
    "When the composition alone is changed, the temperature and density are held constant. This means that the pressure and other intensive properties will change. The composition can also be set in conjunction with the intensive properties of the mixture:"
   ]
  },
  {
   "cell_type": "code",
   "execution_count": 80,
   "id": "a251a1e4-d4be-434f-958b-5a2027f75a41",
   "metadata": {},
   "outputs": [],
   "source": [
    "gas1.TPX = 1200, 101325, 'CH4:1, O2:2, N2:7.52'\n",
    "# gas1()"
   ]
  },
  {
   "cell_type": "markdown",
   "id": "8a603b69-da7e-42ae-bbed-333d9edcf5f3",
   "metadata": {},
   "source": [
    "When setting the state, you can control what properties are held constant by passing the special value None to the property setter. For example, to change the specific volume to 2.1 m3/kg while holding entropy constant:"
   ]
  },
  {
   "cell_type": "code",
   "execution_count": 81,
   "id": "97562947-08b3-468a-89be-0c140d6e481b",
   "metadata": {},
   "outputs": [],
   "source": [
    "gas1.SV = None, 2.1"
   ]
  },
  {
   "cell_type": "markdown",
   "id": "b52f7a20-35fd-4e5d-89db-4bb332d3bbb1",
   "metadata": {},
   "source": [
    "### Chemical Equilibrium\n",
    "To set a gas mixture to chemical equilibrium - a state of chemical balance in a reversible reaction - use the equilibrate method.\n",
    "\n",
    "The below statement sets the state of object g to the state of chemical equilibrium holding temperature and pressure fixed. We can choose different options for the parameters to be held fixed. Ther are:\n",
    "\n",
    "- <b>HP</b>: fixed enthalpy and pressure (the one we most likely will use for chamber CEA)\n",
    "- <b>UV</b>: fixed specific internal energy and specific volume\n",
    "- <b>SV</b>: fixed specific entropy and specific volume\n",
    "- <b>SP</b>: fixed specific entropy and pressure"
   ]
  },
  {
   "cell_type": "code",
   "execution_count": 82,
   "id": "6d2954ea-d406-403c-9329-efdef2580afa",
   "metadata": {},
   "outputs": [],
   "source": [
    "g = ct.Solution('gri30.yaml')\n",
    "g.TPX = 300.0, ct.one_atm, 'CH4:0.95,O2:2,N2:7.52'\n",
    "g.equilibrate('TP')"
   ]
  },
  {
   "cell_type": "markdown",
   "id": "2d7201c1-0286-46c3-90a7-0bfa8f0a81d7",
   "metadata": {},
   "source": [
    "### Example of Finding Exhaust Gas Properties / Chamber Conditions"
   ]
  },
  {
   "cell_type": "code",
   "execution_count": 83,
   "id": "a0a3a101-3eaa-4440-a0eb-5a70c5ed34e9",
   "metadata": {},
   "outputs": [],
   "source": [
    "# Chamber conditions\n",
    "_pc = 2.758e+6                # Chamber pressure (Pa)\n",
    "thrust = 4448.22             # Desired thrust (N)\n",
    "p_amb = 101325               # Ambient pressure (Pa) - sea level pressure\n",
    "OF = 10.25                   # OF mass ratio\n",
    "\n",
    "# We define our gas mixture via propellant initial temperature, pressure, mass ratio\n",
    "gas = ct.Solution('gri30.yaml')\n",
    "gas.TPY = 300, _pc, \"C2H6:1, N2O:10.25\"   # Very approximate fuel/ox inlet temperature\n",
    "# Solution properties before chemical equilibrium\n",
    "# gas()"
   ]
  },
  {
   "cell_type": "markdown",
   "id": "ca8cea68-f0d3-4de4-aff1-769300a4d508",
   "metadata": {},
   "source": [
    "### Plotting Chamber Temperaturre vs OF ratio\n",
    "We can plot the chmaber pressure vs OF ratio for our mixture:"
   ]
  },
  {
   "cell_type": "code",
   "execution_count": 84,
   "id": "0cb8cec9-ab53-47e3-9d4b-5e071b7add0b",
   "metadata": {},
   "outputs": [
    {
     "name": "stderr",
     "output_type": "stream",
     "text": [
      "C:\\Users\\lukas\\AppData\\Local\\Temp/ipykernel_10600/3303667823.py:14: UserWarning: ChemEquil::equilibrate: Temperature (3004.7876734220717 K) outside valid range of 300 K to 3000 K\n",
      "  gas.equilibrate(\"HP\") # Equilibrate keeping enthalpy and pressure constant\n"
     ]
    }
   ],
   "source": [
    "import os\n",
    "import matplotlib.pyplot as plt\n",
    "\n",
    "# OF ratio:\n",
    "OF = range(21)[4:] # range 4 to 20\n",
    "P = 2.758e+6 # 400 PSI\n",
    "T = list()\n",
    "\n",
    "# populate T list:\n",
    "for of in OF: \n",
    "    gas = ct.Solution('gri30.yaml')\n",
    "    mixture = \"C2H6:1, N2O:{}\".format(of)\n",
    "    gas.TPY = 300, _pc, mixture\n",
    "    gas.equilibrate(\"HP\") # Equilibrate keeping enthalpy and pressure constant \n",
    "    T.append(gas.T) # add chamber temperature"
   ]
  },
  {
   "cell_type": "code",
   "execution_count": 85,
   "id": "95710b26-40b1-4ad7-a792-53764ae94144",
   "metadata": {},
   "outputs": [
    {
     "data": {
      "image/png": "[encoded data removed]",
      "text/plain": [
       "<Figure size 864x576 with 1 Axes>"
      ]
     },
     "metadata": {
      "needs_background": "light"
     },
     "output_type": "display_data"
    }
   ],
   "source": [
    "folder = \"canteraplots/\"\n",
    "if not os.path.exists(folder):\n",
    "        os.mkdir(folder)\n",
    "\n",
    "# Plot results\n",
    "fig, ax = plt.subplots(figsize=(12,8))\n",
    "plt.grid()\n",
    "plt.plot(OF, T, color=\"m\")\n",
    "ax.set_ylabel(\"Chamber Temperature, K\")\n",
    "ax.set_xlabel(\"OF ratio\")\n",
    "plt.title(\"Chamber Temperature vs OF ratio for Cantera CEA\")\n",
    "plt.savefig(folder + \"TvsOF.png\", dpi=300)"
   ]
  },
  {
   "cell_type": "markdown",
   "id": "269f24b1-10e8-4b88-a480-57ed8f53fea9",
   "metadata": {},
   "source": [
    "### Generating Chamber Pressure, Specific Heat Ratio (Throat and Chamber), and Molecular Weight for different OF values"
   ]
  },
  {
   "cell_type": "code",
   "execution_count": 86,
   "id": "6df0d157-f78f-448f-93d9-3ce7d8c9c9a2",
   "metadata": {},
   "outputs": [
    {
     "name": "stdout",
     "output_type": "stream",
     "text": [
      "using OF from 0.2 13.200000000000001\n"
     ]
    }
   ],
   "source": [
    "import scipy.optimize\n",
    "\n",
    "# Values to be inputted into Engine Sizing Equations\n",
    "P = 2.758e+6 # 400 PSI\n",
    "\n",
    "# define OF list\n",
    "step = 0.2\n",
    "N = 66\n",
    "OF = range(N+1)[1:] # N values from step to N*step\n",
    "OF = [x * step for x in OF]\n",
    "print(\"using OF from\", min(OF), max(OF))"
   ]
  },
  {
   "cell_type": "code",
   "execution_count": 87,
   "id": "2602b808-50fb-448c-b8d2-6827c405bd55",
   "metadata": {},
   "outputs": [
    {
     "name": "stderr",
     "output_type": "stream",
     "text": [
      "C:\\Users\\lukas\\AppData\\Local\\Temp/ipykernel_10600/4062284046.py:19: UserWarning: ChemEquil::equilibrate: Temperature (3007.6994395355514 K) outside valid range of 300 K to 3000 K\n",
      "  gas.equilibrate(\"HP\") # Equilibrate keeping enthalpy and pressure constant\n"
     ]
    }
   ],
   "source": [
    "# define our error function\n",
    "def throat_error(pt):\n",
    "    gas.SP = s0, pt      \n",
    "    gamma = gas.cp/gas.cv\n",
    "    R = gas.cp * (1 - 1/gamma)\n",
    "    V = np.sqrt(2 * (h0 - gas.h) )                # Definition of stagnation enthalpy\n",
    "    error = V - np.sqrt(gamma * R * gas.T)        # Difference between actual and sonic velocity - must be zero at throat\n",
    "    return error\n",
    "\n",
    "Tc = list()\n",
    "kc = list()\n",
    "kt = list()\n",
    "MW = list()\n",
    "\n",
    "for of in OF: \n",
    "    gas = ct.Solution('gri30.yaml')\n",
    "    mixture = \"C2H6:1, N2O:{}\".format(of)\n",
    "    gas.TPY = 300, P, mixture\n",
    "    gas.equilibrate(\"HP\") # Equilibrate keeping enthalpy and pressure constant \n",
    "    \n",
    "    # get results of inital conditions after equilibration\n",
    "    s0 = gas.s\n",
    "    h0 = gas.h \n",
    "    T0 = gas.T\n",
    "    k0 = gas.cp / gas.cv\n",
    "    MW_i = gas.mean_molecular_weight\n",
    "    \n",
    "    # converge on k_throat\n",
    "    pt_guess = P * (1 + (_kc - 1) / 2) ** (-_kc / (_kc - 1))\n",
    "    # Use scipy's solver to get throat conditions - you should use throat conditions with bamboo\n",
    "    pt = scipy.optimize.fsolve(throat_error, x0 = pt_guess)\n",
    "    kt_conv = gas.cp/gas.cv\n",
    "    \n",
    "    # populate lists\n",
    "    Tc.append(gas.T) # add chamber temperature\n",
    "    kc.append(gas.cp / gas.cv)\n",
    "    kt.append(kt_conv)\n",
    "    MW.append(MW_i)"
   ]
  },
  {
   "cell_type": "code",
   "execution_count": 89,
   "id": "e7c1be83-3294-41e6-971c-f6df00d7e51e",
   "metadata": {},
   "outputs": [],
   "source": [
    "import pandas as pd\n",
    "\n",
    "folder = \"canterafiles/\"\n",
    "if not os.path.exists(folder):\n",
    "        os.mkdir(folder)\n",
    "        \n",
    "df = pd.DataFrame(list(zip(OF, Tc, kc, kt, MW)), columns =['OF', 'Tc', 'k_chamber', 'k_throat', 'Mean Molecular Weight'])\n",
    "df.to_excel(folder + \"exhaustgastandk.xlsx\")"
   ]
  },
  {
   "cell_type": "code",
   "execution_count": null,
   "id": "dc3cee04-f21b-4a4a-9cf5-e5647552446c",
   "metadata": {},
   "outputs": [],
   "source": []
  }
 ],
 "metadata": {
  "kernelspec": {
   "display_name": "Python 3 (ipykernel)",
   "language": "python",
   "name": "python3"
  },
  "language_info": {
   "codemirror_mode": {
    "name": "ipython",
    "version": 3
   },
   "file_extension": ".py",
   "mimetype": "text/x-python",
   "name": "python",
   "nbconvert_exporter": "python",
   "pygments_lexer": "ipython3",
   "version": "3.9.7"
  }
 },
 "nbformat": 4,
 "nbformat_minor": 5
}
