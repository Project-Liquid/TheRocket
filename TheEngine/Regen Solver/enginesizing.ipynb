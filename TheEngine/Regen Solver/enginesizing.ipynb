{
 "cells": [
  {
   "cell_type": "markdown",
   "id": "e9f0d7e0-6a56-42e7-bfd9-e5409aff3afb",
   "metadata": {},
   "source": [
    "# Engine Sizing\n",
    "The followign overview gives an overview of sizing te engine given a certain thrust target and OF ratio."
   ]
  },
  {
   "cell_type": "code",
   "execution_count": 137,
   "metadata": {},
   "outputs": [],
   "source": [
    "# general\n",
    "import os\n",
    "import numpy as np\n",
    "\n",
    "# thermo\n",
    "import cantera as ct\n",
    "\n",
    "# numerical methods\n",
    "import scipy.optimize\n",
    "\n",
    "# visualization / other\n",
    "import matplotlib.pyplot as plt"
   ]
  },
  {
   "cell_type": "code",
   "execution_count": 138,
   "metadata": {},
   "outputs": [],
   "source": [
    "plotfolder = \"engineplots/\"\n",
    "if not os.path.exists(plotfolder):\n",
    "    os.mkdir(plotfolder)"
   ]
  },
  {
   "cell_type": "markdown",
   "id": "4abe422b",
   "metadata": {},
   "source": [
    "### Main parameter definitions"
   ]
  },
  {
   "cell_type": "code",
   "execution_count": 139,
   "metadata": {},
   "outputs": [],
   "source": [
    "P0 = 2.758e+6 # First Chamber (Stagnation) Pressure Guess [Pa]\n",
    "P_amb = 101325 # Ambient Pressure [Pa] - optimal operating pressure\n",
    "Ti = 300      # First Chamber Inlet Temperature Guess [K]\n",
    "OF = 10.2     # OF ratio used\n",
    "thrust = 4448.22 # Tqrget thrust [N]"
   ]
  },
  {
   "cell_type": "code",
   "execution_count": 140,
   "id": "17d7bd51-9699-483d-81af-3013b28bf385",
   "metadata": {},
   "outputs": [
    {
     "name": "stdout",
     "output_type": "stream",
     "text": [
      "Enthalpy: 1441245.9601456434 [J]\n",
      "Stagnation temperature: 3281.188239511196 [K]\n",
      "Specific heat ratio: 1.2405024045277944 [-]\n",
      "Mean molecular weight: 0.02620354167025899 [kg/mol] \n",
      "Specific gas constant: 317.3030089894356 [J/kg K] \n",
      "Specific volume: 0.3774948881282275 [m^3/kg]\n"
     ]
    }
   ],
   "source": [
    "# Define gas\n",
    "gas = ct.Solution('gri30.yaml')          \n",
    "mixture = \"C2H6:1, N2O:{}\".format(OF)    # define mixture via mixture string\n",
    "gas.TPY = Ti, P0, mixture              # define state of gas before chemical balance\n",
    "gas.equilibrate(\"HP\")                  # equilibrate keeping enthalpy and pressure constant\n",
    "\n",
    "# Extract Preliminary Gas Properties\n",
    "h0 = gas.h  # gas enthalpy [J]\n",
    "T0 = gas.T  # stagnation temperature [K]\n",
    "kc = gas.cp / gas.cv # specific heat ratio in chamber\n",
    "MW = gas.mean_molecular_weight / 1000.0 # average molecular weight of gas [kg / mol] (function returns [g / mol])\n",
    "R = (ct.gas_constant / 1000.0) / MW # Specfic gas constant of exhaust gases [J / kg K] (ct.gas_constant returns [J / kmol K])\n",
    "V0 = R * T0 / P0 # specific volume in chamber [m^3 / kg] (from ideal gas equation)\n",
    "\n",
    "# Print Properties\n",
    "print(\"Enthalpy:\", h0, \"[J]\\nStagnation temperature:\", T0, \"[K]\\nSpecific heat ratio:\", kc, \"[-]\\nMean molecular weight:\", MW, \"[kg/mol]\", \"\\nSpecific gas constant:\", R, \"[J/kg K]\", \"\\nSpecific volume:\", V0, \"[m^3/kg]\")"
   ]
  },
  {
   "cell_type": "markdown",
   "id": "1b018450-4290-4942-92be-b32da2ca2a93",
   "metadata": {},
   "source": [
    "## Engine Sizing\n",
    "The main parameters for the engine to be sized are the throat area $A_t$ and the exit area $A_e$. The following sizing procedure uses the equation for thrust <em>(equation nr. 28 from equation sheet)</em> $F = \\dot{m} c^* C_F$, where $c^*(k)$ is taken to be a constant (i.e. specific heat ratio - k is assumed to be constant throughout the thrust chamber) and $C_F(k, P_{amb})$ is also taken to be a sort of constant to relate $\\dot{m}$ to $F$. From this we find $\\dot{m}$.<br>\n",
    "Then we use $P_0 A_t = \\dot{m} c^*$ <em>(equation nr. 25 from equation sheet)</em>, to find $A_t$ .\n"
   ]
  },
  {
   "cell_type": "markdown",
   "id": "21bd59a3",
   "metadata": {},
   "source": [
    "### Finding Throat Area $A_t$"
   ]
  },
  {
   "cell_type": "code",
   "execution_count": 141,
   "id": "7c9f8a5f-dad4-47a2-8d0d-709d7462c6c2",
   "metadata": {},
   "outputs": [],
   "source": [
    "# Defining equations for characteristic velocity and thrust coefficient \n",
    "def get_c_star(k, R, T0):\n",
    "    return np.sqrt(k * R * T0) / (k * np.sqrt( (2 / (k + 1))**((k + 1)/(k - 1)) ) )\n",
    "# k = specific heat ratio, R = specific gas constant, T0 = stagnation temperature\n",
    "\n",
    "def get_C_F(k, R, T0, P_amb, P0):\n",
    "    return np.sqrt(2 * k ** 2 / (k - 1) * (2 / (k + 1)) ** ((k + 1) / (k - 1)) * (1 - (P_amb / P0) ** ((k - 1) / k)))\n",
    "# k = specific heat ratio, R = specific gas constant, T0 = stagnation temperature, P_amb = exit pressure, P0 = stagnation pressure"
   ]
  },
  {
   "cell_type": "code",
   "execution_count": 142,
   "metadata": {},
   "outputs": [
    {
     "name": "stdout",
     "output_type": "stream",
     "text": [
      "Characteristic velocity: 1554.759568630687 [m/s]\n",
      "Thrust coefficient: 1.449681880790852 [-] \n",
      "Mass flow rate: 1.973559886369499 [kg/s]\n"
     ]
    }
   ],
   "source": [
    "# Find characteristic velocity, thrust coefficient, and mass flow rate\n",
    "c_star = get_c_star(kc, R, T0)\n",
    "C_F = get_C_F(kc, R, T0, P_amb, P0)\n",
    "mdot = thrust / (c_star * C_F)\n",
    "\n",
    "print(\"Characteristic velocity:\", c_star, \"[m/s]\\nThrust coefficient:\", C_F, \"[-]\", \"\\nMass flow rate:\", mdot, \"[kg/s]\")\n"
   ]
  },
  {
   "cell_type": "code",
   "execution_count": 143,
   "metadata": {},
   "outputs": [
    {
     "name": "stdout",
     "output_type": "stream",
     "text": [
      "Throat area: 11.12549353734108 [cm^2]\n"
     ]
    }
   ],
   "source": [
    "# Find throat area\n",
    "A_t = mdot * c_star / (P0)\n",
    "\n",
    "# print throat area\n",
    "print(\"Throat area:\", A_t * 10000, \"[cm^2]\")"
   ]
  },
  {
   "cell_type": "markdown",
   "id": "b3042c71",
   "metadata": {},
   "source": [
    "### Finding Exit Area $A_e$"
   ]
  },
  {
   "cell_type": "code",
   "execution_count": 144,
   "metadata": {},
   "outputs": [
    {
     "data": {
      "text/plain": [
       "' Currently Placeholder '"
      ]
     },
     "execution_count": 144,
     "metadata": {},
     "output_type": "execute_result"
    }
   ],
   "source": [
    "\"\"\" Currently Placeholder \"\"\""
   ]
  },
  {
   "cell_type": "markdown",
   "id": "8085061f",
   "metadata": {},
   "source": [
    "### Determining Other Operation Parameters\n",
    "From the previous values we can obtain other operation parameters, such as specific impulse $I_{sp} = \\frac{C_F * C^*}{g}$"
   ]
  },
  {
   "cell_type": "code",
   "execution_count": 145,
   "metadata": {},
   "outputs": [
    {
     "name": "stdout",
     "output_type": "stream",
     "text": [
      "Specific impulse: 229.75604236800288 [s]\n"
     ]
    }
   ],
   "source": [
    "Isp = C_F * c_star / 9.81\n",
    "print(\"Specific impulse:\", Isp, \"[s]\")"
   ]
  },
  {
   "cell_type": "markdown",
   "id": "c8e41166",
   "metadata": {},
   "source": [
    "### Retrieving Chamber Geometry\n",
    "Using the throat area $A_t$ and geometry parameters such as:\n",
    "- $\\alpha$ - divergence half angle\n",
    "- $\\beta$ - convergence half angle\n",
    "- $Dc$ - chamber diameter\n",
    "\n",
    "as well as theoretical parameters such as:\n",
    "\n",
    "- $L^*$ - characteristic length\n",
    "\n",
    "The chamber geometry retireving currently doesn't involve finding exit area, so we will use a manually set a total length $L_{tot}$, which will set a $divergence length $L_{div}$ - the axial lenght of the diverging section."
   ]
  },
  {
   "cell_type": "code",
   "execution_count": 146,
   "metadata": {},
   "outputs": [],
   "source": [
    "alpha = 15 # nozzle divergence half angle [deg]\n",
    "beta =  30 # nozzle convergence half angle [deg]\n",
    "D_c = 0.127 # chamber diameter [m]\n",
    "L_star = 3 # characteristic length [m]\n",
    "L_tot = 0.3 # divergence length [m]\n"
   ]
  },
  {
   "cell_type": "code",
   "execution_count": 147,
   "metadata": {},
   "outputs": [
    {
     "name": "stdout",
     "output_type": "stream",
     "text": [
      "Chamber volume: 3337.648061202324 [cm^3]\n",
      "Chamber area: 126.67686977437444 [cm^2]\n",
      "Throat diameter: 3.763697427588747 [cm]\n",
      "Converging length: 7.739065043612374 [cm]\n",
      "Cylindrical chamber length: 15.635472524349192 [cm] \n",
      "Diverging length: 6.625462432038431 [cm] \n",
      "Exit diameter: 7.314272043883626 [cm]\n"
     ]
    }
   ],
   "source": [
    "# Calculate additional dimensional parameters\n",
    "V_c = A_t * L_star # chamber volume [m^3]\n",
    "A_c = np.pi * D_c ** 2 / 4 # chamber area [m^2]\n",
    "D_t = np.sqrt(4 * A_t / np.pi) # throat diameter [m]\n",
    "\n",
    "L_conv = (D_c - D_t) / 2 / np.tan(np.radians(beta)) # converging length [m]\n",
    "L_cyl = V_c / A_c - L_conv * (1 + np.sqrt(A_t / A_c) + A_t / A_c) # cylindrical chamber length [m] (from equation 32 in equation sheet)\n",
    "L_div = L_tot - L_conv - L_cyl # divergence length [m]\n",
    "\n",
    "D_e = D_t + 2 * L_div * np.tan(np.radians(alpha)) # exit diameter [m]\n",
    "\n",
    "# check if diameter dimension is physically possible\n",
    "if(D_c - D_t < 0):\n",
    "    print(\"Diameter dimension is not physically possible. Chamber diameter is by {} m smaller than throat diameter.\".format(D_c - D_t))\n",
    "\n",
    "# print dimensional parameters\n",
    "print(\"Chamber volume:\", V_c * 1e6, \"[cm^3]\\nChamber area:\", A_c * 1e4, \"[cm^2]\\nThroat diameter:\", D_t * 1e2, \"[cm]\\nConverging length:\", L_conv * 1e2, \"[cm]\\nCylindrical chamber length:\", L_cyl * 1e2, \"[cm]\", \"\\nDiverging length:\", L_div * 1e2, \"[cm]\", \"\\nExit diameter:\", D_e * 1e2, \"[cm]\")"
   ]
  },
  {
   "cell_type": "code",
   "execution_count": 148,
   "metadata": {},
   "outputs": [],
   "source": [
    "# Manually extracting geometry as a function of axial position r(x)\n",
    "x = list()\n",
    "r = list()\n",
    "\n",
    "# first position - chamber start (injector plate)\n",
    "x.append(0) \n",
    "r.append(D_c / 2) \n",
    "\n",
    "# second position - chamber end (converging section start)\n",
    "x.append(L_cyl) \n",
    "r.append(D_c / 2) \n",
    "\n",
    "# third position - throat\n",
    "x.append(L_cyl + L_conv)\n",
    "r.append(D_t / 2)\n",
    "\n",
    "# fourth position - diverging section end\n",
    "x.append(L_cyl + L_conv + L_div)\n",
    "r.append(D_e / 2)"
   ]
  },
  {
   "cell_type": "code",
   "execution_count": 149,
   "metadata": {},
   "outputs": [
    {
     "data": {
      "image/png": "[encoded data removed]",
      "text/plain": [
       "<Figure size 432x288 with 1 Axes>"
      ]
     },
     "metadata": {},
     "output_type": "display_data"
    }
   ],
   "source": [
    "# plot result\n",
    "fig, axs = plt.subplots()\n",
    "fig.set_facecolor('white')\n",
    "axs.plot(x, r, color = \"k\") # upper innner wall\n",
    "axs.plot(x, -np.array(r), color = \"k\") # lower inner wall\n",
    "axs.grid()\n",
    "axs.set_xlabel(\"Axial Position (m)\")\n",
    "axs.set_ylabel(\"Radius (m)\")\n",
    "axs.set_title(\"Chamber Geometry\")\n",
    "axs.set_aspect('equal')\n",
    "plt.savefig(plotfolder + \"enginegeometry.png\", dpi=300)"
   ]
  },
  {
   "cell_type": "markdown",
   "id": "4d969b8d",
   "metadata": {},
   "source": [
    "### Determining Other Useful Parameters"
   ]
  },
  {
   "cell_type": "code",
   "execution_count": 150,
   "metadata": {},
   "outputs": [
    {
     "name": "stdout",
     "output_type": "stream",
     "text": [
      "Oxidizer mass flow rate: 1.7973491822293652 [kg/s]\n",
      "Fuel mass flow rate: 0.17621070414013384 [kg/s]\n"
     ]
    }
   ],
   "source": [
    "o_mdot = mdot * OF / (OF + 1) # oxidizer mass flow rate [kg/s]\n",
    "f_mdot = mdot / (OF + 1) # fuel mass flow rate [kg/s]\n",
    "print(\"Oxidizer mass flow rate:\", o_mdot, \"[kg/s]\\nFuel mass flow rate:\", f_mdot, \"[kg/s]\")"
   ]
  },
  {
   "cell_type": "markdown",
   "id": "c9bb5755",
   "metadata": {},
   "source": [
    "## Using Cantera to size the engine\n",
    "The following code looks into an alternative method to size the engine using more functionaloty of Cantera to size the engine. <br>\n"
   ]
  },
  {
   "cell_type": "markdown",
   "id": "5682b7ae",
   "metadata": {},
   "source": [
    "In general, to size the engine (as was mentionned previously), the main parameters to find are the throat area $A_t$ and the exit area $A_e$. Therefore we must find some way to relate the thermodynamic properties of the gas to the cross sectional area at some axial position of the thrust chamber. <br>\n",
    "\n",
    "For this we use mass flow conservation $\\dot{m} = \\frac{Av}{V}$ that gives $A = \\frac{\\dot{m} V}{v}$, where $v$ - gas velocity, and $V$ - specific volume. \n",
    "\n",
    "To determine velocity we can use enthalpy conservation: $v_x = \\sqrt{2(h_0 - h_x)}$, where $h_0$ - stagnation enthalpy.\n",
    "\n",
    "To determine specific volume we can use isentropic flow equations $V_x = V_0 (\\frac{p_0}{p_x})^{\\frac{1}{k}}$, where $p_0$ - stagnation pressure, and $k$ - specific heat ratio. Here the subscript $x$ denotes some axial position. \n",
    "\n",
    "Knowing both $v$ and $V$ at some axial position $x$, we can determine the necessary cross sectional area there $A_x$ <br>\n",
    "\n",
    "<em>Note: Currently we assume the specific heat ratio $k$ to be constant throughout the thrust chamber.</em>"
   ]
  },
  {
   "cell_type": "markdown",
   "id": "bfdd5027",
   "metadata": {},
   "source": [
    "### Constraints\n",
    "But to even be able to use the equations above, we must have some constraints on the properties of the gas at the axial positions in question. For our postions of interest these constraints are:\n",
    "- for throat: $M = 1$\n",
    "- for exit: $P = P_{amb}$\n",
    "\n",
    "With these constraints (and with isentropic flow) we can determine the state of the gas and therefore $v$ and $V$, which give (knowing $\\dot{m}$) $A$."
   ]
  },
  {
   "cell_type": "markdown",
   "id": "2d0b84c2",
   "metadata": {},
   "source": [
    "### Find Exhaust Gas Chamber (Stagnation) Properties"
   ]
  },
  {
   "cell_type": "code",
   "execution_count": 151,
   "metadata": {},
   "outputs": [
    {
     "name": "stdout",
     "output_type": "stream",
     "text": [
      "Enthalpy: 1441245.9601456434 [J]\n",
      "Stagnation temperature: 3281.188239511196 [K]\n",
      "Specific heat ratio: 1.2405024045277944 [-]\n",
      "Mean molecular weight: 0.02620354167025899 [kg/mol] \n",
      "Specific gas constant: 317.3030089894356 [J/kg K] \n",
      "Specific volume: 0.3774948881282275 [m^3/kg]\n"
     ]
    }
   ],
   "source": [
    "# Define gas\n",
    "gas = ct.Solution('gri30.yaml')          \n",
    "mixture = \"C2H6:1, N2O:{}\".format(OF)    # define mixture via mixture string\n",
    "gas.TPY = Ti, P0, mixture              # define state of gas before chemical balance\n",
    "gas.equilibrate(\"HP\")                  # equilibrate keeping enthalpy and pressure constant\n",
    "\n",
    "# Extract Preliminary Gas Properties\n",
    "h0 = gas.h  # gas enthalpy [J]\n",
    "s0 = gas.s  # gas entropy [J/K]\n",
    "T0 = gas.T  # stagnation temperature [K]\n",
    "kc = gas.cp / gas.cv # specific heat ratio in chamber\n",
    "MW = gas.mean_molecular_weight / 1000.0 # average molecular weight of gas [kg / mol] (function returns [g / mol])\n",
    "R = (ct.gas_constant / 1000.0) / MW # Specfic gas constant of exhaust gases [J / kg K] (ct.gas_constant returns [J / kmol K])\n",
    "V0 = R * T0 / P0 # specific volume in chamber [m^3 / kg] (from ideal gas equation)\n",
    "\n",
    "# Print Properties\n",
    "print(\"Enthalpy:\", h0, \"[J]\\nStagnation temperature:\", T0, \"[K]\\nSpecific heat ratio:\", kc, \"[-]\\nMean molecular weight:\", MW, \"[kg/mol]\", \"\\nSpecific gas constant:\", R, \"[J/kg K]\", \"\\nSpecific volume:\", V0, \"[m^3/kg]\")"
   ]
  },
  {
   "cell_type": "markdown",
   "id": "580812e0",
   "metadata": {},
   "source": [
    "### Determine Gas Throat Properties\n",
    "The main constraint for the throat properties are that the Mach number $M = 1$. From this we can determine the throat static pressure. Assuming $k = const.$ it is $P_t = P_0 (1 + \\frac{k-1}{2})^{\\frac{-k}{k-1}}$"
   ]
  },
  {
   "cell_type": "code",
   "execution_count": 152,
   "metadata": {},
   "outputs": [
    {
     "name": "stdout",
     "output_type": "stream",
     "text": [
      "Throat area: 11.1264935875533 [cm^2]\n"
     ]
    }
   ],
   "source": [
    "P_t = P0 * (1 + (kc - 1) / 2) ** (-kc / (kc - 1))  # throat pressure [Pa] (constraint equivalent)\n",
    "\n",
    "# Model gas at constraint conditions\n",
    "gas.SP = s0, P_t # use insentropic expansion and constraint pressure to find state at throat (note - we don't equilibrate again - we assume frozen flow)\n",
    "h_t = gas.h # throat enthalpy [J]\n",
    "\n",
    "v_t = np.sqrt(2 * (h0 - h_t))\n",
    "V_t = V0 * (P0 / P_t) ** (1 / kc) # throat specific volume [m^3 / kg]\n",
    "\n",
    "# find throat area\n",
    "A_t = mdot * V_t / v_t # throat area [m^2]\n",
    "\n",
    "\n",
    "print(\"Throat area:\", A_t * 10000, \"[cm^2]\")"
   ]
  },
  {
   "cell_type": "markdown",
   "id": "d01ef9fe",
   "metadata": {},
   "source": [
    "### Determine Gas Exit Properties\n",
    "The main constraint for the exit properties are that the gas exit pressure $P = P_{amb}$. "
   ]
  },
  {
   "cell_type": "code",
   "execution_count": 153,
   "metadata": {},
   "outputs": [
    {
     "name": "stdout",
     "output_type": "stream",
     "text": [
      "Exit area: 47.55450343577763 [cm^2]\n"
     ]
    }
   ],
   "source": [
    "# Model gas at constraint conditions\n",
    "gas.SP = s0, P_amb # use insentropic expansion and constraint pressure to find state at exit (note - we don't equilibrate again - we assume frozen flow)\n",
    "h_e = gas.h # exit enthalpy [J]\n",
    "\n",
    "v_e = np.sqrt(2 * (h0 - h_e))\n",
    "V_e = V0 * (P0 / P_amb) ** (1 / kc) # exit specific volume [m^3 / kg]\n",
    "\n",
    "# find exit area\n",
    "A_e = mdot * V_e / v_e # exit area [m^2]\n",
    "\n",
    "print(\"Exit area:\", A_e * 10000, \"[cm^2]\")"
   ]
  },
  {
   "cell_type": "markdown",
   "id": "d535a5c5",
   "metadata": {},
   "source": [
    "### Retrieving Chamber Geometry\n",
    "Using the parameters defined above, we can once again retrieve the chamber geometry."
   ]
  },
  {
   "cell_type": "code",
   "execution_count": 154,
   "metadata": {},
   "outputs": [
    {
     "name": "stdout",
     "output_type": "stream",
     "text": [
      "Chamber volume: 3337.94807626599 [cm^3]\n",
      "Chamber area: 126.67686977437444 [cm^2]\n",
      "Throat diameter: 3.7638665797176007 [cm]\n",
      "Converging length: 7.738918553571682 [cm]\n",
      "Cylindrical chamber length: 15.637879472089189 [cm] \n",
      "Diverging length: 7.496590207905884 [cm] \n",
      "Exit diameter: 7.781277164108488 [cm]\n"
     ]
    }
   ],
   "source": [
    "# Calculate additional dimensional parameters\n",
    "V_c = A_t * L_star # chamber volume [m^3]\n",
    "A_c = np.pi * D_c ** 2 / 4 # chamber area [m^2]\n",
    "D_t = np.sqrt(4 * A_t / np.pi) # throat diameter [m]\n",
    "\n",
    "L_conv = (D_c - D_t) / 2 / np.tan(np.radians(beta)) # converging length [m]\n",
    "L_cyl = V_c / A_c - L_conv * (1 + np.sqrt(A_t / A_c) + A_t / A_c) # cylindrical chamber length [m] (from equation 32 in equation sheet)\n",
    "\n",
    "D_e = np.sqrt(4 * A_e / np.pi) # exit diameter [m]\n",
    "L_div = (D_e - D_t) / 2 / np.tan(np.radians(alpha)) # divergence length [m]\n",
    "\n",
    "# check if diameter dimension is physically possible\n",
    "if(D_c - D_t < 0):\n",
    "    print(\"Diameter dimension is not physically possible. Chamber diameter is by {} m smaller than throat diameter.\".format(D_c - D_t))\n",
    "\n",
    "# print dimensional parameters\n",
    "print(\"Chamber volume:\", V_c * 1e6, \"[cm^3]\\nChamber area:\", A_c * 1e4, \"[cm^2]\\nThroat diameter:\", D_t * 1e2, \"[cm]\\nConverging length:\", L_conv * 1e2, \"[cm]\\nCylindrical chamber length:\", L_cyl * 1e2, \"[cm]\", \"\\nDiverging length:\", L_div * 1e2, \"[cm]\", \"\\nExit diameter:\", D_e * 1e2, \"[cm]\")"
   ]
  },
  {
   "cell_type": "code",
   "execution_count": 155,
   "metadata": {},
   "outputs": [],
   "source": [
    "# Manually extracting geometry as a function of axial position r(x)\n",
    "x_can = list()\n",
    "r_can = list()\n",
    "\n",
    "# first position - chamber start (injector plate)\n",
    "x_can.append(0) \n",
    "r_can.append(D_c / 2) \n",
    "\n",
    "# second position - chamber end (converging section start)\n",
    "x_can.append(L_cyl) \n",
    "r_can.append(D_c / 2) \n",
    "\n",
    "# third position - throat\n",
    "x_can.append(L_cyl + L_conv)\n",
    "r_can.append(D_t / 2)\n",
    "\n",
    "# fourth position - diverging section end\n",
    "x_can.append(L_cyl + L_conv + L_div)\n",
    "r_can.append(D_e / 2)"
   ]
  },
  {
   "cell_type": "code",
   "execution_count": 156,
   "metadata": {},
   "outputs": [
    {
     "data": {
      "image/png": "[encoded data removed]",
      "text/plain": [
       "<Figure size 432x288 with 1 Axes>"
      ]
     },
     "metadata": {},
     "output_type": "display_data"
    }
   ],
   "source": [
    "# plot result\n",
    "fig, axs = plt.subplots()\n",
    "fig.set_facecolor('white')\n",
    "axs.plot(x_can, r_can, color = \"k\", label = \"Cantera Sizing\") # upper innner wall\n",
    "axs.plot(x_can, -np.array(r_can), color = \"k\") # lower inner wall\n",
    "axs.plot(x, r, color = \"m\", linestyle = \"--\", label = \"Standard Sizing\") # upper innner wall\n",
    "axs.plot(x, -np.array(r), color = \"m\", linestyle = \"--\") # lower inner wall\n",
    "axs.grid()\n",
    "axs.set_xlabel(\"Axial Position (m)\")\n",
    "axs.set_ylabel(\"Radius (m)\")\n",
    "axs.set_title(\"Chamber Geometry\")\n",
    "axs.set_aspect('equal')\n",
    "plt.legend()\n",
    "plt.savefig(plotfolder + \"canteraenginegeometry.png\", dpi=300)"
   ]
  },
  {
   "cell_type": "markdown",
   "metadata": {},
   "source": [
    "## Using Cantera Cantera with Convergence\n",
    "The following method to size the engine is virtually identical to the Cantera Sizing Method, only it takes into account the fact that the specific heat ratio at the throat $k_t$ is different from that at the chamber $k_c$."
   ]
  },
  {
   "cell_type": "markdown",
   "metadata": {},
   "source": [
    "### Find Exhaust Gas Chamber (Stagnation) Properties"
   ]
  },
  {
   "cell_type": "code",
   "execution_count": 157,
   "metadata": {},
   "outputs": [
    {
     "name": "stdout",
     "output_type": "stream",
     "text": [
      "Enthalpy: 1441245.9601456434 [J]\n",
      "Stagnation temperature: 3281.188239511196 [K]\n",
      "Specific heat ratio: 1.2405024045277944 [-]\n",
      "Mean molecular weight: 0.02620354167025899 [kg/mol] \n",
      "Specific gas constant: 317.3030089894356 [J/kg K] \n",
      "Specific volume: 0.3774948881282275 [m^3/kg]\n"
     ]
    }
   ],
   "source": [
    "# Define gas\n",
    "gas = ct.Solution('gri30.yaml')          \n",
    "mixture = \"C2H6:1, N2O:{}\".format(OF)    # define mixture via mixture string\n",
    "gas.TPY = Ti, P0, mixture              # define state of gas before chemical balance\n",
    "gas.equilibrate(\"HP\")                  # equilibrate keeping enthalpy and pressure constant\n",
    "\n",
    "# Extract Preliminary Gas Properties\n",
    "h0 = gas.h  # gas enthalpy [J]\n",
    "s0 = gas.s  # gas entropy [J/K]\n",
    "T0 = gas.T  # stagnation temperature [K]\n",
    "kc = gas.cp / gas.cv # specific heat ratio in chamber\n",
    "MW = gas.mean_molecular_weight / 1000.0 # average molecular weight of gas [kg / mol] (function returns [g / mol])\n",
    "R = (ct.gas_constant / 1000.0) / MW # Specfic gas constant of exhaust gases [J / kg K] (ct.gas_constant returns [J / kmol K])\n",
    "V0 = R * T0 / P0 # specific volume in chamber [m^3 / kg] (from ideal gas equation)\n",
    "\n",
    "# Print Properties\n",
    "print(\"Enthalpy:\", h0, \"[J]\\nStagnation temperature:\", T0, \"[K]\\nSpecific heat ratio:\", kc, \"[-]\\nMean molecular weight:\", MW, \"[kg/mol]\", \"\\nSpecific gas constant:\", R, \"[J/kg K]\", \"\\nSpecific volume:\", V0, \"[m^3/kg]\")"
   ]
  },
  {
   "cell_type": "markdown",
   "metadata": {},
   "source": [
    "### Determine Gas Throat Properties\n",
    "To determine the gas throat properties we use the determined throat pressure from the equation $P_t = P_0 (1 + \\frac{k-1}{2})^{\\frac{-k}{k-1}}$ as an inital guess.<br>\n",
    "\n",
    "Because the specific heat ratio at the throat $k_t$ is different from that at the chamebr $k_c$ and because local sonic velocity $v_s = \\sqrt{kRT}$ is a function of $k$ and $T$, there will be some error between the velocity at the throat $v_t$ and the local sonic velocity $v_s$. This means that mMach number at the throat $M_t = \\frac{v_t}{v_s}$ will not be equal to 1, which is a requirement. <br>\n",
    "\n",
    "We can, however, converge to a throat pressure (and therefore gas state given by Cantera) that does satisfy $M_t = 1$.<br>\n",
    "\n",
    "<em>Note: During the numerical solving (using scipy) we also iterate through different gas states and therefore also retrieve an \"optimized\" gas state at the throat.</em>\n"
   ]
  },
  {
   "cell_type": "code",
   "execution_count": 158,
   "metadata": {},
   "outputs": [
    {
     "name": "stdout",
     "output_type": "stream",
     "text": [
      "Throat area: 11.12025752545451 [cm^2]\n"
     ]
    }
   ],
   "source": [
    "# find initial guess of throat pressure\n",
    "P_t = P0 * (1 + (kc - 1) / 2) ** (-kc / (kc - 1))  # throat pressure [Pa] (constraint equivalent)\n",
    "\n",
    "# define error function to iterate and get \"imperfect gas\" throat conditions - assume frozen flow\n",
    "def throat_error(P_t):\n",
    "    gas.SP = s0, P_t      \n",
    "    k_t = gas.cp/gas.cv\n",
    "    R = gas.cp * (1 - 1 / k_t)\n",
    "    v_t = np.sqrt(2 * (h0 - gas.h) )                # Definition of stagnation enthalpy\n",
    "    error = v_t - np.sqrt(k_t * R * gas.T)        # Difference between actual and sonic velocity - must be zero at throat\n",
    "    return error # the error is the difference between the sonic and exhaust gas velocity\n",
    "\n",
    "# use scipy's solver to minimize error function and model gas at constraint conditions\n",
    "P_t = scipy.optimize.fsolve(throat_error, x0 = P_t) # function returns optimized pressure at throat [Pa]\n",
    "h_t = gas.h # throat enthalpy [J]\n",
    "k_t = gas.cp / gas.cv # throat specific heat ratio [-]\n",
    "V_t = gas.v # throat specific volume [m^3 / kg] (retrieve from Cantera)\n",
    "v_t = np.sqrt(2 * (h0 - h_t))\n",
    "\n",
    "# find throat area\n",
    "A_t = mdot * V_t / v_t # throat area [m^2]\n",
    "\n",
    "print(\"Throat area:\", A_t * 10000, \"[cm^2]\")"
   ]
  },
  {
   "cell_type": "markdown",
   "metadata": {},
   "source": [
    "### Determine Gas Exit Properties\n",
    "The main constraint for the exit properties are that the gas exit pressure $P = P_{amb}$.\n",
    "\n",
    "<em>Note: Now we continue to use the \"optimized\" gas state at the throat.</em>"
   ]
  },
  {
   "cell_type": "code",
   "execution_count": 159,
   "metadata": {},
   "outputs": [
    {
     "name": "stdout",
     "output_type": "stream",
     "text": [
      "Exit area: 47.55450343577762 [cm^2]\n"
     ]
    }
   ],
   "source": [
    "# Model gas at constraint conditions\n",
    "gas.SP = s0, P_amb # use insentropic expansion and constraint pressure to find state at exit (note - we don't equilibrate again - we assume frozen flow)\n",
    "h_e = gas.h # exit enthalpy [J]\n",
    "\n",
    "v_e = np.sqrt(2 * (h0 - h_e))\n",
    "V_e = V0 * (P0 / P_amb) ** (1 / kc) # exit specific volume [m^3 / kg]\n",
    "\n",
    "# find exit area\n",
    "A_e = mdot * V_e / v_e # exit area [m^2]\n",
    "\n",
    "print(\"Exit area:\", A_e * 10000, \"[cm^2]\")"
   ]
  },
  {
   "cell_type": "markdown",
   "metadata": {},
   "source": [
    "### Retrieving Chamber Geometry\n",
    "Using the parameters defined above, we can once again retrieve the chamber geometry."
   ]
  },
  {
   "cell_type": "code",
   "execution_count": 160,
   "metadata": {},
   "outputs": [
    {
     "name": "stdout",
     "output_type": "stream",
     "text": [
      "Chamber volume: 3336.077257636353 [cm^3]\n",
      "Chamber area: 126.67686977437444 [cm^2]\n",
      "Throat diameter: 3.7628116653703874 [cm]\n",
      "Converging length: 7.7398321361951865 [cm]\n",
      "Cylindrical chamber length: 15.622870378475701 [cm] \n",
      "Diverging length: 7.498558704876601 [cm] \n",
      "Exit diameter: 7.781277164108488 [cm]\n"
     ]
    }
   ],
   "source": [
    "# Calculate additional dimensional parameters\n",
    "V_c = A_t * L_star # chamber volume [m^3]\n",
    "A_c = np.pi * D_c ** 2 / 4 # chamber area [m^2]\n",
    "D_t = np.sqrt(4 * A_t / np.pi) # throat diameter [m]\n",
    "\n",
    "L_conv = (D_c - D_t) / 2 / np.tan(np.radians(beta)) # converging length [m]\n",
    "L_cyl = V_c / A_c - L_conv * (1 + np.sqrt(A_t / A_c) + A_t / A_c) # cylindrical chamber length [m] (from equation 32 in equation sheet)\n",
    "\n",
    "D_e = np.sqrt(4 * A_e / np.pi) # exit diameter [m]\n",
    "L_div = (D_e - D_t) / 2 / np.tan(np.radians(alpha)) # divergence length [m]\n",
    "\n",
    "# check if diameter dimension is physically possible\n",
    "if(D_c - D_t < 0):\n",
    "    print(\"Diameter dimension is not physically possible. Chamber diameter is by {} m smaller than throat diameter.\".format(D_c - D_t))\n",
    "\n",
    "# print dimensional parameters\n",
    "print(\"Chamber volume:\", V_c * 1e6, \"[cm^3]\\nChamber area:\", A_c * 1e4, \"[cm^2]\\nThroat diameter:\", D_t * 1e2, \"[cm]\\nConverging length:\", L_conv * 1e2, \"[cm]\\nCylindrical chamber length:\", L_cyl * 1e2, \"[cm]\", \"\\nDiverging length:\", L_div * 1e2, \"[cm]\", \"\\nExit diameter:\", D_e * 1e2, \"[cm]\")"
   ]
  },
  {
   "cell_type": "code",
   "execution_count": 161,
   "metadata": {},
   "outputs": [],
   "source": [
    "# Manually extracting geometry as a function of axial position r(x)\n",
    "x_can_c = list()\n",
    "r_can_c = list()\n",
    "\n",
    "# first position - chamber start (injector plate)\n",
    "x_can_c.append(0) \n",
    "r_can_c.append(D_c / 2) \n",
    "\n",
    "# second position - chamber end (converging section start)\n",
    "x_can_c.append(L_cyl) \n",
    "r_can_c.append(D_c / 2) \n",
    "\n",
    "# third position - throat\n",
    "x_can_c.append(L_cyl + L_conv)\n",
    "r_can_c.append(D_t / 2)\n",
    "\n",
    "# fourth position - diverging section end\n",
    "x_can_c.append(L_cyl + L_conv + L_div)\n",
    "r_can_c.append(D_e / 2)"
   ]
  },
  {
   "cell_type": "code",
   "execution_count": 162,
   "metadata": {},
   "outputs": [
    {
     "data": {
      "image/png": "[encoded data removed]",
      "text/plain": [
       "<Figure size 864x432 with 1 Axes>"
      ]
     },
     "metadata": {},
     "output_type": "display_data"
    }
   ],
   "source": [
    "# plot result\n",
    "fig, axs = plt.subplots(figsize = (12, 6))\n",
    "fig.set_facecolor('white')\n",
    "axs.plot(x_can, r_can, color = \"y\", linestyle = \":\", label = \"Cantera Sizing\") # upper innner wall\n",
    "axs.plot(x_can, -np.array(r_can), linestyle = \":\", color = \"y\") # lower inner wall\n",
    "axs.plot(x, r, color = \"m\", linestyle = \"--\", label = \"Standard Sizing\") # upper innner wall\n",
    "axs.plot(x, -np.array(r), color = \"m\", linestyle = \"--\") # lower inner wall\n",
    "axs.plot(x_can_c, r_can_c, color = \"g\", linestyle = \"-.\", label = \"Cantera Sizing with Iteration\") # upper innner wall\n",
    "axs.plot(x_can_c, -np.array(r_can_c), color = \"g\", linestyle = \"-.\") # lower inner wall\n",
    "axs.grid()\n",
    "axs.set_xlabel(\"Axial Position (m)\")\n",
    "axs.set_ylabel(\"Radius (m)\")\n",
    "axs.set_title(\"Chamber Geometry\")\n",
    "axs.set_aspect('equal')\n",
    "plt.legend()\n",
    "plt.savefig(plotfolder + \"canteraenginegeometry.png\", dpi=300)"
   ]
  },
  {
   "cell_type": "code",
   "execution_count": null,
   "id": "382dbf21",
   "metadata": {},
   "outputs": [],
   "source": []
  }
 ],
 "metadata": {
  "kernelspec": {
   "display_name": "Python 3 (ipykernel)",
   "language": "python",
   "name": "python3"
  },
  "language_info": {
   "codemirror_mode": {
    "name": "ipython",
    "version": 3
   },
   "file_extension": ".py",
   "mimetype": "text/x-python",
   "name": "python",
   "nbconvert_exporter": "python",
   "pygments_lexer": "ipython3",
   "version": "3.11.5"
  }
 },
 "nbformat": 4,
 "nbformat_minor": 5
}
