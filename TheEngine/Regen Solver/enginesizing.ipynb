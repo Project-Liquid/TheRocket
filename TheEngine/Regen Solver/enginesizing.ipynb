{
 "cells": [
  {
   "cell_type": "markdown",
   "id": "e9f0d7e0-6a56-42e7-bfd9-e5409aff3afb",
   "metadata": {},
   "source": [
    "# Engine Sizing\n",
    "The followign overview gives an overview of sizing te engine given a certain thrust target and OF ratio."
   ]
  },
  {
   "cell_type": "code",
   "execution_count": 1,
   "metadata": {},
   "outputs": [],
   "source": [
    "# general\n",
    "import os\n",
    "import numpy as np\n",
    "import pandas as pd\n",
    "\n",
    "# thermo\n",
    "import cantera as ct\n",
    "\n",
    "# numerical methods\n",
    "import scipy.optimize\n",
    "\n",
    "# visualization / other\n",
    "import matplotlib.pyplot as plt"
   ]
  },
  {
   "cell_type": "code",
   "execution_count": 2,
   "metadata": {},
   "outputs": [],
   "source": [
    "plotfolder = \"engineplots/\"\n",
    "filefolder = \"enginefiles/\"\n",
    "\n",
    "# create appropriate folders if they don't exist\n",
    "if not os.path.exists(plotfolder):\n",
    "    os.mkdir(plotfolder)\n",
    "\n",
    "if not os.path.exists(filefolder):\n",
    "    os.mkdir(filefolder)"
   ]
  },
  {
   "cell_type": "markdown",
   "metadata": {},
   "source": [
    "### Main parameter definitions"
   ]
  },
  {
   "cell_type": "code",
   "execution_count": 3,
   "metadata": {},
   "outputs": [],
   "source": [
    "P0 = 2.758e+6 # First Chamber (Stagnation) Pressure Guess [Pa]\n",
    "P_amb = 101835 # Ambient Pressure [Pa] - optimal operating pressure\n",
    "Ti = 300      # First Chamber Inlet Temperature Guess [K]\n",
    "OF = 5   # OF ratio used\n",
    "thrust = 4448.22 # Target thrust [N]"
   ]
  },
  {
   "cell_type": "code",
   "execution_count": 4,
   "id": "17d7bd51-9699-483d-81af-3013b28bf385",
   "metadata": {},
   "outputs": [
    {
     "name": "stdout",
     "output_type": "stream",
     "text": [
      "Enthalpy: 1082128.336363466 [J]\n",
      "Stagnation temperature: 2768.943214441793 [K]\n",
      "Specific heat ratio: 1.262067493884791 [-]\n",
      "Mean molecular weight: 0.021354404592716734 [kg/mol] \n",
      "Specific gas constant: 389.3558624897939 [J/kg K] \n",
      "Specific volume: 0.39090075179163514 [m^3/kg]\n"
     ]
    }
   ],
   "source": [
    "# Define gas\n",
    "gas = ct.Solution('gri30.yaml')          \n",
    "mixture = \"C2H6:1, N2O:{}\".format(OF)    # define mixture via mixture string\n",
    "gas.TPY = Ti, P0, mixture              # define state of gas before chemical balance\n",
    "gas.equilibrate(\"HP\")                  # equilibrate keeping enthalpy and pressure constant\n",
    "\n",
    "# Extract Preliminary Gas Properties\n",
    "h0 = gas.h  # gas enthalpy [J]\n",
    "T0 = gas.T  # stagnation temperature [K]\n",
    "kc = gas.cp / gas.cv # specific heat ratio in chamber\n",
    "MW = gas.mean_molecular_weight / 1000.0 # average molecular weight of gas [kg / mol] (function returns [g / mol])\n",
    "R = (ct.gas_constant / 1000.0) / MW # Specfic gas constant of exhaust gases [J / kg K] (ct.gas_constant returns [J / kmol K])\n",
    "V0 = gas.v # specific volume in chamber [m^3 / kg] (from ideal gas equation)\n",
    "\n",
    "# Print Properties\n",
    "print(\"Enthalpy:\", h0, \"[J]\\nStagnation temperature:\", T0, \"[K]\\nSpecific heat ratio:\", kc, \"[-]\\nMean molecular weight:\", MW, \"[kg/mol]\", \"\\nSpecific gas constant:\", R, \"[J/kg K]\", \"\\nSpecific volume:\", V0, \"[m^3/kg]\")"
   ]
  },
  {
   "cell_type": "markdown",
   "id": "1b018450-4290-4942-92be-b32da2ca2a93",
   "metadata": {},
   "source": [
    "## Engine Sizing\n",
    "The main parameters for the engine to be sized are the throat area $A_t$ and the exit area $A_e$. The following sizing procedure uses the equation for thrust <em>(equation nr. 28 from equation sheet)</em> $F = \\dot{m} c^* C_F$, where $c^*(k)$ is taken to be a constant (i.e. specific heat ratio - k is assumed to be constant throughout the thrust chamber) and $C_F(k, P_{amb})$ is also taken to be a sort of constant to relate $\\dot{m}$ to $F$. From this we find $\\dot{m}$.<br>\n",
    "Then we use $P_0 A_t = \\dot{m} c^*$ <em>(equation nr. 25 from equation sheet)</em>, to find $A_t$ .\n"
   ]
  },
  {
   "cell_type": "markdown",
   "metadata": {},
   "source": [
    "### Finding Throat Area $A_t$"
   ]
  },
  {
   "cell_type": "code",
   "execution_count": 5,
   "id": "7c9f8a5f-dad4-47a2-8d0d-709d7462c6c2",
   "metadata": {},
   "outputs": [],
   "source": [
    "# Defining equations for characteristic velocity and thrust coefficient \n",
    "def get_c_star(k, R, T0):\n",
    "    return np.sqrt(k * R * T0) / (k * np.sqrt( (2 / (k + 1))**((k + 1)/(k - 1)) ) )\n",
    "# k = specific heat ratio, R = specific gas constant, T0 = stagnation temperature\n",
    "\n",
    "def get_C_F(k, R, T0, P_amb, P0):\n",
    "    return np.sqrt(2 * k ** 2 / (k - 1) * (2 / (k + 1)) ** ((k + 1) / (k - 1)) * (1 - (P_amb / P0) ** ((k - 1) / k)))\n",
    "# k = specific heat ratio, R = specific gas constant, T0 = stagnation temperature, P_amb = exit pressure, P0 = stagnation pressure"
   ]
  },
  {
   "cell_type": "code",
   "execution_count": 6,
   "metadata": {},
   "outputs": [
    {
     "name": "stdout",
     "output_type": "stream",
     "text": [
      "Characteristic velocity: 1572.4596574778323 [m/s]\n",
      "Thrust coefficient: 1.4431299224933956 [-] \n",
      "Mass flow rate: 1.9602041966866228 [kg/s]\n"
     ]
    }
   ],
   "source": [
    "# Find characteristic velocity, thrust coefficient, and mass flow rate\n",
    "c_star = get_c_star(kc, R, T0)\n",
    "C_F = get_C_F(kc, R, T0, P_amb, P0)\n",
    "mdot = thrust / (c_star * C_F)\n",
    "\n",
    "print(\"Characteristic velocity:\", c_star, \"[m/s]\\nThrust coefficient:\", C_F, \"[-]\", \"\\nMass flow rate:\", mdot, \"[kg/s]\")\n"
   ]
  },
  {
   "cell_type": "code",
   "execution_count": 7,
   "metadata": {},
   "outputs": [
    {
     "name": "stdout",
     "output_type": "stream",
     "text": [
      "Throat area: 11.176004422438202 [cm^2]\n"
     ]
    }
   ],
   "source": [
    "# Find throat area\n",
    "A_t = mdot * c_star / (P0)\n",
    "\n",
    "# print throat area\n",
    "print(\"Throat area:\", A_t * 10000, \"[cm^2]\")"
   ]
  },
  {
   "cell_type": "markdown",
   "metadata": {},
   "source": [
    "### Finding Exit Area $A_e$"
   ]
  },
  {
   "cell_type": "code",
   "execution_count": 8,
   "metadata": {},
   "outputs": [
    {
     "data": {
      "text/plain": [
       "' Currently Placeholder '"
      ]
     },
     "execution_count": 8,
     "metadata": {},
     "output_type": "execute_result"
    }
   ],
   "source": [
    "\"\"\" Currently Placeholder \"\"\""
   ]
  },
  {
   "cell_type": "markdown",
   "metadata": {},
   "source": [
    "### Determining Other Operation Parameters\n",
    "From the previous values we can obtain other operation parameters, such as specific impulse $I_{sp} = \\frac{C_F * C^*}{g}$"
   ]
  },
  {
   "cell_type": "code",
   "execution_count": 9,
   "metadata": {},
   "outputs": [
    {
     "name": "stdout",
     "output_type": "stream",
     "text": [
      "Specific impulse: 231.32146622018095 [s]\n"
     ]
    }
   ],
   "source": [
    "Isp = C_F * c_star / 9.81\n",
    "print(\"Specific impulse:\", Isp, \"[s]\")"
   ]
  },
  {
   "cell_type": "markdown",
   "metadata": {},
   "source": [
    "### Retrieving Chamber Geometry\n",
    "Using the throat area $A_t$ and geometry parameters such as:\n",
    "- $\\alpha$ - divergence half angle\n",
    "- $\\beta$ - convergence half angle\n",
    "- $Dc$ - chamber diameter\n",
    "\n",
    "as well as theoretical parameters such as:\n",
    "\n",
    "- $L^*$ - characteristic length\n",
    "\n",
    "The chamber geometry retireving currently doesn't involve finding exit area, so we will use a manually set a total length $L_{tot}$, which will set a $divergence length $L_{div}$ - the axial lenght of the diverging section."
   ]
  },
  {
   "cell_type": "code",
   "execution_count": 10,
   "metadata": {},
   "outputs": [],
   "source": [
    "alpha = 15 # nozzle divergence half angle [deg]\n",
    "beta =  30 # nozzle convergence half angle [deg]\n",
    "D_c = 0.127 # chamber diameter [m]\n",
    "L_star = 3 # characteristic length [m]\n",
    "L_tot = 0.4 # divergence length [m]"
   ]
  },
  {
   "cell_type": "code",
   "execution_count": 11,
   "metadata": {},
   "outputs": [
    {
     "name": "stdout",
     "output_type": "stream",
     "text": [
      "Chamber volume: 3352.8013267314604 [cm^3]\n",
      "Chamber area: 126.67686977437444 [cm^2]\n",
      "Throat diameter: 3.7722315388617624 [cm]\n",
      "Converging length: 7.731674286451221 [cm]\n",
      "Cylindrical chamber length: 15.75704564798898 [cm] \n",
      "Diverging length: 16.511280065559806 [cm] \n",
      "Exit diameter: 12.62059985800345 [cm]\n"
     ]
    }
   ],
   "source": [
    "# Calculate additional dimensional parameters\n",
    "V_c = A_t * L_star # chamber volume [m^3]\n",
    "A_c = np.pi * D_c ** 2 / 4 # chamber area [m^2]\n",
    "D_t = np.sqrt(4 * A_t / np.pi) # throat diameter [m]\n",
    "\n",
    "L_conv = (D_c - D_t) / 2 / np.tan(np.radians(beta)) # converging length [m]\n",
    "L_cyl = V_c / A_c - L_conv * (1 + np.sqrt(A_t / A_c) + A_t / A_c) # cylindrical chamber length [m] (from equation 32 in equation sheet)\n",
    "L_div = L_tot - L_conv - L_cyl # divergence length [m]\n",
    "\n",
    "D_e = D_t + 2 * L_div * np.tan(np.radians(alpha)) # exit diameter [m]\n",
    "\n",
    "# check if diameter dimension is physically possible\n",
    "if(D_c - D_t < 0):\n",
    "    print(\"Diameter dimension is not physically possible. Chamber diameter is by {} m smaller than throat diameter.\".format(D_c - D_t))\n",
    "\n",
    "# print dimensional parameters\n",
    "print(\"Chamber volume:\", V_c * 1e6, \"[cm^3]\\nChamber area:\", A_c * 1e4, \"[cm^2]\\nThroat diameter:\", D_t * 1e2, \"[cm]\\nConverging length:\", L_conv * 1e2, \"[cm]\\nCylindrical chamber length:\", L_cyl * 1e2, \"[cm]\", \"\\nDiverging length:\", L_div * 1e2, \"[cm]\", \"\\nExit diameter:\", D_e * 1e2, \"[cm]\")"
   ]
  },
  {
   "cell_type": "code",
   "execution_count": 12,
   "metadata": {},
   "outputs": [],
   "source": [
    "# Manually extracting geometry as a function of axial position r(x)\n",
    "x = list()\n",
    "r = list()\n",
    "\n",
    "# first position - chamber start (injector plate)\n",
    "x.append(0) \n",
    "r.append(D_c / 2) \n",
    "\n",
    "# second position - chamber end (converging section start)\n",
    "x.append(L_cyl) \n",
    "r.append(D_c / 2) \n",
    "\n",
    "# third position - throat\n",
    "x.append(L_cyl + L_conv)\n",
    "r.append(D_t / 2)\n",
    "\n",
    "# fourth position - diverging section end\n",
    "x.append(L_cyl + L_conv + L_div)\n",
    "r.append(D_e / 2)"
   ]
  },
  {
   "cell_type": "code",
   "execution_count": 13,
   "metadata": {},
   "outputs": [
    {
     "data": {
      "image/png": "[encoded data removed]",
      "text/plain": [
       "<Figure size 432x288 with 1 Axes>"
      ]
     },
     "metadata": {},
     "output_type": "display_data"
    }
   ],
   "source": [
    "# plot result\n",
    "fig, axs = plt.subplots()\n",
    "fig.set_facecolor('white')\n",
    "axs.plot(x, r, color = \"k\") # upper innner wall\n",
    "axs.plot(x, -np.array(r), color = \"k\") # lower inner wall\n",
    "axs.grid()\n",
    "axs.set_xlabel(\"Axial Position (m)\")\n",
    "axs.set_ylabel(\"Radius (m)\")\n",
    "axs.set_title(\"Chamber Geometry\")\n",
    "axs.set_aspect('equal')\n",
    "plt.savefig(plotfolder + \"enginegeometry.png\", dpi=300)"
   ]
  },
  {
   "cell_type": "markdown",
   "metadata": {},
   "source": [
    "In general, to size the engine (as was mentionned previously), the main parameters to find are the throat area $A_t$ and the exit area $A_e$. Therefore we must find some way to relate the thermodynamic properties of the gas to the cross sectional area at some axial position of the thrust chamber. <br>\n",
    "\n",
    "For this we use mass flow conservation $\\dot{m} = \\frac{Av}{V}$ that gives $A = \\frac{\\dot{m} V}{v}$, where $v$ - gas velocity, and $V$ - specific volume. \n",
    "\n",
    "To determine velocity we can use enthalpy conservation: $v_x = \\sqrt{2(h_0 - h_x)}$, where $h_0$ - stagnation enthalpy.\n",
    "\n",
    "To determine specific volume we can use isentropic flow equations $V_x = V_0 (\\frac{p_0}{p_x})^{\\frac{1}{k}}$, where $p_0$ - stagnation pressure, and $k$ - specific heat ratio. Here the subscript $x$ denotes some axial position. \n",
    "\n",
    "Knowing both $v$ and $V$ at some axial position $x$, we can determine the necessary cross sectional area there $A_x$ <br>\n",
    "\n",
    "<em>Note: Currently we assume the specific heat ratio $k$ to be constant throughout the thrust chamber.</em>"
   ]
  },
  {
   "cell_type": "markdown",
   "metadata": {},
   "source": [
    "### Constraints\n",
    "But to even be able to use the equations above, we must have some constraints on the properties of the gas at the axial positions in question. For our postions of interest these constraints are:\n",
    "- for throat: $M = 1$\n",
    "- for exit: $P = P_{amb}$\n",
    "\n",
    "With these constraints (and with isentropic flow) we can determine the state of the gas and therefore $v$ and $V$, which give (knowing $\\dot{m}$) $A$."
   ]
  },
  {
   "cell_type": "markdown",
   "metadata": {},
   "source": [
    "### Find Exhaust Gas Chamber (Stagnation) Properties"
   ]
  },
  {
   "cell_type": "code",
   "execution_count": 14,
   "metadata": {},
   "outputs": [
    {
     "name": "stdout",
     "output_type": "stream",
     "text": [
      "Enthalpy: 1082128.336363466 [J]\n",
      "Stagnation temperature: 2768.943214441793 [K]\n",
      "Specific heat ratio: 1.262067493884791 [-]\n",
      "Mean molecular weight: 0.021354404592716734 [kg/mol] \n",
      "Specific gas constant: 389.3558624897939 [J/kg K] \n",
      "Specific volume: 0.39090075179163514 [m^3/kg]\n"
     ]
    }
   ],
   "source": [
    "# Define gas\n",
    "gas = ct.Solution('gri30.yaml')          \n",
    "mixture = \"C2H6:1, N2O:{}\".format(OF)    # define mixture via mixture string\n",
    "gas.TPY = Ti, P0, mixture              # define state of gas before chemical balance\n",
    "gas.equilibrate(\"HP\")                  # equilibrate keeping enthalpy and pressure constant\n",
    "\n",
    "# Extract Preliminary Gas Properties\n",
    "h0 = gas.h  # gas enthalpy [J]\n",
    "s0 = gas.s  # gas entropy [J/K]\n",
    "T0 = gas.T  # stagnation temperature [K]\n",
    "kc = gas.cp / gas.cv # specific heat ratio in chamber\n",
    "MW = gas.mean_molecular_weight / 1000.0 # average molecular weight of gas [kg / mol] (function returns [g / mol])\n",
    "R = (ct.gas_constant / 1000.0) / MW # Specfic gas constant of exhaust gases [J / kg K] (ct.gas_constant returns [J / kmol K])\n",
    "V0 = gas.v # specific volume in chamber [m^3 / kg] (from ideal gas equation)\n",
    "\n",
    "# Print Properties\n",
    "print(\"Enthalpy:\", h0, \"[J]\\nStagnation temperature:\", T0, \"[K]\\nSpecific heat ratio:\", kc, \"[-]\\nMean molecular weight:\", MW, \"[kg/mol]\", \"\\nSpecific gas constant:\", R, \"[J/kg K]\", \"\\nSpecific volume:\", V0, \"[m^3/kg]\")"
   ]
  },
  {
   "cell_type": "markdown",
   "metadata": {},
   "source": [
    "### Determine Gas Throat Properties\n",
    "The main constraint for the throat properties are that the Mach number $M = 1$. From this we can determine the throat static pressure. Assuming $k = const.$ it is $P_t = P_0 (1 + \\frac{k-1}{2})^{\\frac{-k}{k-1}}$"
   ]
  },
  {
   "cell_type": "code",
   "execution_count": 15,
   "metadata": {},
   "outputs": [
    {
     "name": "stdout",
     "output_type": "stream",
     "text": [
      "Throat area: 11.167928945056097 [cm^2]\n",
      "Throat pressure: 221.07870291560917 [psi]\n"
     ]
    }
   ],
   "source": [
    "P_t = P0 * (1 + (kc - 1) / 2) ** (-kc / (kc - 1))  # throat pressure [Pa] (constraint equivalent)\n",
    "\n",
    "# Model gas at constraint conditions\n",
    "gas.SP = s0, P_t # use insentropic expansion and constraint pressure to find state at throat (note - we don't equilibrate again - we assume frozen flow)\n",
    "h_t = gas.h # throat enthalpy [J]\n",
    "\n",
    "v_t = np.sqrt(2 * (h0 - h_t))\n",
    "V_t = gas.v # throat specific volume [m^3 / kg]\n",
    "\n",
    "# find throat area\n",
    "A_t = mdot * V_t / v_t # throat area [m^2]\n",
    "\n",
    "\n",
    "print(\"Throat area:\", A_t * 10000, \"[cm^2]\")\n",
    "print(\"Throat pressure:\", P_t / 6894.76, \"[psi]\")"
   ]
  },
  {
   "cell_type": "markdown",
   "metadata": {},
   "source": [
    "### Determine Gas Exit Properties\n",
    "The main constraint for the exit properties are that the gas exit pressure $P = P_{amb}$. "
   ]
  },
  {
   "cell_type": "code",
   "execution_count": 16,
   "metadata": {},
   "outputs": [
    {
     "name": "stdout",
     "output_type": "stream",
     "text": [
      "Exit area: 44.726291781552575 [cm^2] \n",
      "Expansion ratio: 4.004886850695119 [-]\n"
     ]
    }
   ],
   "source": [
    "# Model gas at constraint conditions\n",
    "gas.SP = s0, P_amb # use insentropic expansion and constraint pressure to find state at exit (note - we don't equilibrate again - we assume frozen flow)\n",
    "h_e = gas.h # exit enthalpy [J]\n",
    "\n",
    "v_e = np.sqrt(2 * (h0 - h_e))\n",
    "V_e = gas.v # exit specific volume [m^3 / kg]\n",
    "\n",
    "# find exit area\n",
    "A_e = mdot * V_e / v_e # exit area [m^2]\n",
    "\n",
    "# find expansion ratio\n",
    "exp_ratio = A_e / A_t\n",
    "\n",
    "print(\"Exit area:\", A_e * 10000, \"[cm^2]\", \"\\nExpansion ratio:\", exp_ratio, \"[-]\")"
   ]
  },
  {
   "cell_type": "markdown",
   "metadata": {},
   "source": [
    "### Retrieving Chamber Geometry\n",
    "Using the parameters defined above, we can once again retrieve the chamber geometry."
   ]
  },
  {
   "cell_type": "code",
   "execution_count": 17,
   "metadata": {},
   "outputs": [
    {
     "name": "stdout",
     "output_type": "stream",
     "text": [
      "Chamber volume: 3350.3786835168294 [cm^3]\n",
      "Chamber area: 126.67686977437444 [cm^2]\n",
      "Throat diameter: 3.7708684365326075 [cm]\n",
      "Converging length: 7.732854767696226 [cm]\n",
      "Cylindrical chamber length: 15.737608728608393 [cm] \n",
      "Diverging length: 7.045130298423256 [cm] \n",
      "Exit diameter: 7.546342384601699 [cm]\n"
     ]
    }
   ],
   "source": [
    "# Calculate additional dimensional parameters\n",
    "V_c = A_t * L_star # chamber volume [m^3]\n",
    "A_c = np.pi * D_c ** 2 / 4 # chamber area [m^2]\n",
    "D_t = np.sqrt(4 * A_t / np.pi) # throat diameter [m]\n",
    "\n",
    "L_conv = (D_c - D_t) / 2 / np.tan(np.radians(beta)) # converging length [m]\n",
    "L_cyl = V_c / A_c - L_conv * (1 + np.sqrt(A_t / A_c) + A_t / A_c) # cylindrical chamber length [m] (from equation 32 in equation sheet)\n",
    "\n",
    "D_e = np.sqrt(4 * A_e / np.pi) # exit diameter [m]\n",
    "L_div = (D_e - D_t) / 2 / np.tan(np.radians(alpha)) # divergence length [m]\n",
    "\n",
    "# check if diameter dimension is physically possible\n",
    "if(D_c - D_t < 0):\n",
    "    print(\"Diameter dimension is not physically possible. Chamber diameter is by {} m smaller than throat diameter.\".format(D_c - D_t))\n",
    "\n",
    "# print dimensional parameters\n",
    "print(\"Chamber volume:\", V_c * 1e6, \"[cm^3]\\nChamber area:\", A_c * 1e4, \"[cm^2]\\nThroat diameter:\", D_t * 1e2, \"[cm]\\nConverging length:\", L_conv * 1e2, \"[cm]\\nCylindrical chamber length:\", L_cyl * 1e2, \"[cm]\", \"\\nDiverging length:\", L_div * 1e2, \"[cm]\", \"\\nExit diameter:\", D_e * 1e2, \"[cm]\")"
   ]
  },
  {
   "cell_type": "code",
   "execution_count": 18,
   "metadata": {},
   "outputs": [],
   "source": [
    "# Manually extracting geometry as a function of axial position r(x)\n",
    "x_can = list()\n",
    "r_can = list()\n",
    "\n",
    "# first position - chamber start (injector plate)\n",
    "x_can.append(0) \n",
    "r_can.append(D_c / 2) \n",
    "\n",
    "# second position - chamber end (converging section start)\n",
    "x_can.append(L_cyl) \n",
    "r_can.append(D_c / 2) \n",
    "\n",
    "# third position - throat\n",
    "x_can.append(L_cyl + L_conv)\n",
    "r_can.append(D_t / 2)\n",
    "\n",
    "# fourth position - diverging section end\n",
    "x_can.append(L_cyl + L_conv + L_div)\n",
    "r_can.append(D_e / 2)"
   ]
  },
  {
   "cell_type": "code",
   "execution_count": 19,
   "metadata": {},
   "outputs": [
    {
     "data": {
      "image/png": "[encoded data removed]",
      "text/plain": [
       "<Figure size 432x288 with 1 Axes>"
      ]
     },
     "metadata": {},
     "output_type": "display_data"
    }
   ],
   "source": [
    "# plot result\n",
    "fig, axs = plt.subplots()\n",
    "fig.set_facecolor('white')\n",
    "axs.plot(x_can, r_can, color = \"k\", label = \"Cantera Sizing\") # upper innner wall\n",
    "axs.plot(x_can, -np.array(r_can), color = \"k\") # lower inner wall\n",
    "axs.plot(x, r, color = \"m\", linestyle = \"--\", label = \"Standard Sizing\") # upper innner wall\n",
    "axs.plot(x, -np.array(r), color = \"m\", linestyle = \"--\") # lower inner wall\n",
    "axs.grid()\n",
    "axs.set_xlabel(\"Axial Position (m)\")\n",
    "axs.set_ylabel(\"Radius (m)\")\n",
    "axs.set_title(\"Chamber Geometry\")\n",
    "axs.set_aspect('equal')\n",
    "plt.legend()\n",
    "plt.savefig(plotfolder + \"canteraenginegeometry.png\", dpi=300)"
   ]
  },
  {
   "cell_type": "markdown",
   "metadata": {},
   "source": [
    "## Using Cantera Cantera with Convergence\n",
    "The following method to size the engine is virtually identical to the Cantera Sizing Method, only it takes into account the fact that the specific heat ratio at the throat $k_t$ is different from that at the chamber $k_c$."
   ]
  },
  {
   "cell_type": "markdown",
   "metadata": {},
   "source": [
    "### Find Exhaust Gas Chamber (Stagnation) Properties"
   ]
  },
  {
   "cell_type": "code",
   "execution_count": 20,
   "metadata": {},
   "outputs": [
    {
     "name": "stdout",
     "output_type": "stream",
     "text": [
      "Enthalpy: 1082128.336363466 [J]\n",
      "Stagnation temperature: 2768.943214441793 [K]\n",
      "Specific heat ratio: 1.262067493884791 [-]\n",
      "Mean molecular weight: 0.021354404592716734 [kg/mol] \n",
      "Specific gas constant: 389.3558624897939 [J/kg K] \n",
      "Specific volume: 0.39090075179163514 [m^3/kg]\n"
     ]
    }
   ],
   "source": [
    "# Define gas\n",
    "gas = ct.Solution('gri30.yaml')          \n",
    "mixture = \"C2H6:1, N2O:{}\".format(OF)    # define mixture via mixture string\n",
    "gas.TPY = Ti, P0, mixture              # define state of gas before chemical balance\n",
    "gas.equilibrate(\"HP\")                  # equilibrate keeping enthalpy and pressure constant\n",
    "\n",
    "# Extract Preliminary Gas Properties\n",
    "h0 = gas.h  # gas enthalpy [J]\n",
    "s0 = gas.s  # gas entropy [J/K]\n",
    "T0 = gas.T  # stagnation temperature [K]\n",
    "kc = gas.cp / gas.cv # specific heat ratio in chamber\n",
    "MW = gas.mean_molecular_weight / 1000.0 # average molecular weight of gas [kg / mol] (function returns [g / mol])\n",
    "R = (ct.gas_constant / 1000.0) / MW # Specfic gas constant of exhaust gases [J / kg K] (ct.gas_constant returns [J / kmol K])\n",
    "V0 = gas.v # specific volume in chamber [m^3 / kg] (from cantera)\n",
    "\n",
    "# Print Properties\n",
    "print(\"Enthalpy:\", h0, \"[J]\\nStagnation temperature:\", T0, \"[K]\\nSpecific heat ratio:\", kc, \"[-]\\nMean molecular weight:\", MW, \"[kg/mol]\", \"\\nSpecific gas constant:\", R, \"[J/kg K]\", \"\\nSpecific volume:\", V0, \"[m^3/kg]\")"
   ]
  },
  {
   "cell_type": "markdown",
   "metadata": {},
   "source": [
    "### Determine Gas Throat Properties\n",
    "To determine the gas throat properties we use the determined throat pressure from the equation $P_t = P_0 (1 + \\frac{k-1}{2})^{\\frac{-k}{k-1}}$ as an inital guess.<br>\n",
    "\n",
    "Because the specific heat ratio at the throat $k_t$ is different from that at the chamebr $k_c$ and because local sonic velocity $v_s = \\sqrt{kRT}$ is a function of $k$ and $T$, there will be some error between the velocity at the throat $v_t$ and the local sonic velocity $v_s$. This means that mMach number at the throat $M_t = \\frac{v_t}{v_s}$ will not be equal to 1, which is a requirement. <br>\n",
    "\n",
    "We can, however, converge to a throat pressure (and therefore gas state given by Cantera) that does satisfy $M_t = 1$.<br>\n",
    "\n",
    "<em>Note: During the numerical solving (using scipy) we also iterate through different gas states and therefore also retrieve an \"optimized\" gas state at the throat.</em>\n"
   ]
  },
  {
   "cell_type": "code",
   "execution_count": 21,
   "metadata": {},
   "outputs": [
    {
     "name": "stdout",
     "output_type": "stream",
     "text": [
      "Throat area: 11.16790388228642 [cm^2]\n"
     ]
    }
   ],
   "source": [
    "# find initial guess of throat pressure\n",
    "P_t = P0 * (1 + (kc - 1) / 2) ** (-kc / (kc - 1))  # throat pressure [Pa] (constraint equivalent)\n",
    "\n",
    "# define error function to iterate and get \"imperfect gas\" throat conditions - assume frozen flow\n",
    "def throat_error(P_t):\n",
    "    gas.SP = s0, P_t      \n",
    "    k_t = gas.cp/gas.cv\n",
    "    R = gas.cp * (1 - 1 / k_t)\n",
    "    v_t = np.sqrt(2 * (h0 - gas.h) )                # Definition of stagnation enthalpy\n",
    "    error = v_t - np.sqrt(k_t * R * gas.T)        # Difference between actual and sonic velocity - must be zero at throat\n",
    "    return error # the error is the difference between the sonic and exhaust gas velocity\n",
    "\n",
    "# use scipy's solver to minimize error function and model gas at constraint conditions\n",
    "P_t = scipy.optimize.fsolve(throat_error, x0 = P_t) # function returns optimized pressure at throat [Pa]\n",
    "h_t = gas.h # throat enthalpy [J]\n",
    "k_t = gas.cp / gas.cv # throat specific heat ratio [-]\n",
    "V_t = gas.v # throat specific volume [m^3 / kg] (retrieve from Cantera)\n",
    "v_t = np.sqrt(2 * (h0 - h_t))\n",
    "\n",
    "# find throat area\n",
    "A_t = mdot * V_t / v_t # throat area [m^2]\n",
    "\n",
    "print(\"Throat area:\", A_t * 10000, \"[cm^2]\")"
   ]
  },
  {
   "cell_type": "markdown",
   "metadata": {},
   "source": [
    "### Determine Gas Exit Properties\n",
    "The main constraint for the exit properties are that the gas exit pressure $P = P_{amb}$.\n",
    "\n",
    "<em>Note: Now we continue to use the \"optimized\" gas state at the throat.</em>"
   ]
  },
  {
   "cell_type": "code",
   "execution_count": 22,
   "metadata": {},
   "outputs": [
    {
     "name": "stdout",
     "output_type": "stream",
     "text": [
      "Exit area: 44.72629178150887 [cm^2] \n",
      "Expansion ratio: 4.004895838372133 [-]\n"
     ]
    }
   ],
   "source": [
    "# Model gas at constraint conditions\n",
    "gas.SP = s0, P_amb # use insentropic expansion and constraint pressure to find state at exit (note - we don't equilibrate again - we assume frozen flow)\n",
    "h_e = gas.h # exit enthalpy [J]\n",
    "\n",
    "v_e = np.sqrt(2 * (h0 - h_e))\n",
    "V_e = gas.v # exit specific volume [m^3 / kg]\n",
    "\n",
    "# find exit area\n",
    "A_e = mdot * V_e / v_e # exit area [m^2]\n",
    "\n",
    "# find expansion ratio\n",
    "exp_ratio = A_e / A_t\n",
    "\n",
    "print(\"Exit area:\", A_e * 10000, \"[cm^2]\", \"\\nExpansion ratio:\", exp_ratio, \"[-]\")"
   ]
  },
  {
   "cell_type": "markdown",
   "metadata": {},
   "source": [
    "### Retrieving Chamber Geometry\n",
    "Using the parameters defined above, we can once again retrieve the chamber geometry."
   ]
  },
  {
   "cell_type": "code",
   "execution_count": 23,
   "metadata": {},
   "outputs": [
    {
     "name": "stdout",
     "output_type": "stream",
     "text": [
      "Chamber volume: 3350.371164685926 [cm^3]\n",
      "Chamber area: 126.67686977437444 [cm^2]\n",
      "Throat diameter: 3.7708642052888113 [cm]\n",
      "Converging length: 7.7328584320608424 [cm]\n",
      "Cylindrical chamber length: 15.737548405039698 [cm] \n",
      "Diverging length: 7.045138194024789 [cm] \n",
      "Exit diameter: 7.546342384598012 [cm]\n"
     ]
    }
   ],
   "source": [
    "# Calculate additional dimensional parameters\n",
    "V_c = A_t * L_star # chamber volume [m^3]\n",
    "A_c = np.pi * D_c ** 2 / 4 # chamber area [m^2]\n",
    "D_t = np.sqrt(4 * A_t / np.pi) # throat diameter [m]\n",
    "\n",
    "# retrieving special axial positions for later use\n",
    "x_c = L_cyl # chamber end axial position [m]\n",
    "x_t = L_cyl + L_conv # throat axial position [m]\n",
    "\n",
    "L_conv = (D_c - D_t) / 2 / np.tan(np.radians(beta)) # converging length [m]\n",
    "L_cyl = V_c / A_c - L_conv * (1 + np.sqrt(A_t / A_c) + A_t / A_c) # cylindrical chamber length [m] (from equation 32 in equation sheet)\n",
    "\n",
    "D_e = np.sqrt(4 * A_e / np.pi) # exit diameter [m]\n",
    "L_div = (D_e - D_t) / 2 / np.tan(np.radians(alpha)) # divergence length [m]\n",
    "\n",
    "# check if diameter dimension is physically possible\n",
    "if(D_c - D_t < 0):\n",
    "    print(\"Diameter dimension is not physically possible. Chamber diameter is by {} m smaller than throat diameter.\".format(D_c - D_t))\n",
    "\n",
    "# print dimensional parameters\n",
    "print(\"Chamber volume:\", V_c * 1e6, \"[cm^3]\\nChamber area:\", A_c * 1e4, \"[cm^2]\\nThroat diameter:\", D_t * 1e2, \"[cm]\\nConverging length:\", L_conv * 1e2, \"[cm]\\nCylindrical chamber length:\", L_cyl * 1e2, \"[cm]\", \"\\nDiverging length:\", L_div * 1e2, \"[cm]\", \"\\nExit diameter:\", D_e * 1e2, \"[cm]\")"
   ]
  },
  {
   "cell_type": "code",
   "execution_count": 24,
   "metadata": {},
   "outputs": [],
   "source": [
    "# Manually extracting geometry as a function of axial position r(x)\n",
    "x_can_c = list()\n",
    "r_can_c = list()\n",
    "\n",
    "# first position - chamber start (injector plate)\n",
    "x_can_c.append(0) \n",
    "r_can_c.append(D_c / 2) \n",
    "\n",
    "# second position - chamber end (converging section start)\n",
    "x_can_c.append(L_cyl) \n",
    "r_can_c.append(D_c / 2) \n",
    "\n",
    "# third position - throat\n",
    "x_can_c.append(L_cyl + L_conv)\n",
    "r_can_c.append(D_t / 2)\n",
    "\n",
    "# fourth position - diverging section end\n",
    "x_can_c.append(L_cyl + L_conv + L_div)\n",
    "r_can_c.append(D_e / 2)"
   ]
  },
  {
   "cell_type": "code",
   "execution_count": 25,
   "metadata": {},
   "outputs": [
    {
     "data": {
      "image/png": "[encoded data removed]",
      "text/plain": [
       "<Figure size 864x432 with 1 Axes>"
      ]
     },
     "metadata": {},
     "output_type": "display_data"
    }
   ],
   "source": [
    "# plot result\n",
    "fig, axs = plt.subplots(figsize = (12, 6))\n",
    "fig.set_facecolor('white')\n",
    "axs.plot(x_can, r_can, color = \"y\", linestyle = \":\", label = \"Cantera Sizing\") # upper innner wall\n",
    "axs.plot(x_can, -np.array(r_can), linestyle = \":\", color = \"y\") # lower inner wall\n",
    "#axs.plot(x, r, color = \"m\", linestyle = \"--\", label = \"Standard Sizing\") # upper innner wall\n",
    "#axs.plot(x, -np.array(r), color = \"m\", linestyle = \"--\") # lower inner wall\n",
    "axs.plot(x_can_c, r_can_c, color = \"g\", linestyle = \"-.\", label = \"Cantera Sizing with Iteration\") # upper innner wall\n",
    "axs.plot(x_can_c, -np.array(r_can_c), color = \"g\", linestyle = \"-.\") # lower inner wall\n",
    "axs.grid()\n",
    "axs.set_xlabel(\"Axial Position (m)\")\n",
    "axs.set_ylabel(\"Radius (m)\")\n",
    "axs.set_title(\"Chamber Geometry\")\n",
    "axs.set_aspect('equal')\n",
    "plt.legend()\n",
    "plt.savefig(plotfolder + \"canteraenginegeometry.png\", dpi=300)"
   ]
  },
  {
   "cell_type": "markdown",
   "metadata": {},
   "source": [
    "### Determining Other Useful Parameters"
   ]
  },
  {
   "cell_type": "code",
   "execution_count": 26,
   "metadata": {},
   "outputs": [
    {
     "name": "stdout",
     "output_type": "stream",
     "text": [
      "Oxidizer mass flow rate: 1.6335034972388522 [kg/s]\n",
      "Fuel mass flow rate: 0.32670069944777047 [kg/s]\n"
     ]
    }
   ],
   "source": [
    "o_mdot = mdot * OF / (OF + 1) # oxidizer mass flow rate [kg/s]\n",
    "f_mdot = mdot / (OF + 1) # fuel mass flow rate [kg/s]\n",
    "print(\"Oxidizer mass flow rate:\", o_mdot, \"[kg/s]\\nFuel mass flow rate:\", f_mdot, \"[kg/s]\")"
   ]
  },
  {
   "cell_type": "markdown",
   "metadata": {},
   "source": [
    "## Saving Geometry Data"
   ]
  },
  {
   "cell_type": "markdown",
   "id": "c1f76166",
   "metadata": {},
   "source": [
    "Save Obtained Engine Geometry Data to .csv files."
   ]
  },
  {
   "cell_type": "code",
   "execution_count": 27,
   "metadata": {},
   "outputs": [],
   "source": [
    "# save geometry results to csv\n",
    "dfgeom = pd.DataFrame({\"x [m]\": x_can_c, \"r [m]\": r_can_c}) # create dataframe with results\n",
    "\n",
    "# save parameters to csv\n",
    "dfgeomparams = pd.DataFrame({\"alpha [deg]\": [alpha], \"beta [deg]\": [beta], \"D_c [m]\": [D_c], \"x_t [m]\": [x_t], \"x_c [m]\": [x_c], \"A_t [m^2]\": [A_t], \"A_e [m^2]\": [A_e], \"A_c [m^2]\": [A_c]}) # create dataframe with results\n",
    "\n",
    "# save mass flow results to csv\n",
    "dfmass = pd.DataFrame({\"OF used [-]\" : [OF], \"mdot [kg/s]\": [mdot], \"o_mdot [kg/s]\": [o_mdot], \"f_mdot [kg/s]\": [f_mdot]}) # create dataframe with results\n",
    "\n",
    "# save verbal geometry results to csv\n",
    "dfgeomverbal = pd.DataFrame({\"Cylindrical chamber length [m]\": [L_cyl], \"Diverging length [m]\": [L_div], \"Converging length [m]\": [L_conv], \"Exit diameter [m]\": [D_e], \"Throat diameter [m]\": [D_t],  \"Chamber diameter [m]\": [D_c], \"Chamber Volume [m^3]\": [V_c]})\n",
    "\n",
    "# save dataframe to csv\n",
    "dfgeom.to_csv(filefolder + \"enginegeometry.csv\", index = False) # save dataframe to csv\n",
    "dfmass.to_csv(filefolder + \"enginemassflow.csv\", index = False) # save dataframe to csv\n",
    "dfgeomparams.to_csv(filefolder + \"engineparameters.csv\", index = False) # save dataframe to csv\n",
    "dfgeomverbal.to_csv(filefolder + \"enginegeometryverbal.csv\", index = False) # save dataframe to csv"
   ]
  },
  {
   "cell_type": "markdown",
   "id": "27f6d3fb",
   "metadata": {},
   "source": [
    "Save obtained geometry to a general .xlsx file."
   ]
  },
  {
   "cell_type": "code",
   "execution_count": 28,
   "id": "98e8094a",
   "metadata": {},
   "outputs": [],
   "source": [
    "# make a list of all parameters and of all their values\n",
    "params = [\"OF [-]\", \"mdot [kg/s]\", \"o_mdot [kg/s]\", \"f_mdot [kg/s]\", \"Divergence Half Angle Angle [deg]\", \"Convergence Half Angle Angle [deg]\", \"Chamber diameter [m]\", \"Throat Position [m]\", \"Throat Area [m^2]\", \"Exit area [m^2]\", \"Chamber Area [m^2]\", \"Cylindrical Section Length [m]\", \"Divergent Chamber Length [m]\", \"Convergent Chamber Length [m]\", \"Exit Diameter [m]\", \"Throat Diameter [m]\", \"Chamber Volume [m^3]\"]\n",
    "values = [OF, mdot, o_mdot, f_mdot, alpha, beta, D_c, x_t, A_t, A_e, A_c, L_cyl, L_div, L_conv, D_e, D_t, V_c]\n",
    "\n",
    "# make a dataframe with all parameters and their values\n",
    "dfparams = pd.DataFrame({\"Parameter\": params, \"Value\": values})\n",
    "\n",
    "# save dataframe to excel\n",
    "dfparams.to_excel(filefolder + \"engineparameters.xlsx\", index = False)"
   ]
  },
  {
   "cell_type": "code",
   "execution_count": 29,
   "id": "d6eb9350",
   "metadata": {},
   "outputs": [
    {
     "name": "stdout",
     "output_type": "stream",
     "text": [
      "Cylindrical chamber length: 0.15737548405039697 [m]\n",
      "Diverging length: 0.07045138194024789 [m]\n",
      "Converging length: 0.07732858432060842 [m]\n",
      "Exit diameter: 0.07546342384598012 [m]\n",
      "Throat diameter: 0.03770864205288811 [m]\n",
      "Chamber diameter: 0.127 [m]\n",
      "Chamber Volume: 0.003350371164685926 [m^3]\n"
     ]
    }
   ],
   "source": [
    "# print verbal geometry results\n",
    "print(\"Cylindrical chamber length:\", L_cyl, \"[m]\\nDiverging length:\", L_div, \"[m]\\nConverging length:\", L_conv, \"[m]\\nExit diameter:\", D_e, \"[m]\\nThroat diameter:\", D_t, \"[m]\\nChamber diameter:\", D_c, \"[m]\\nChamber Volume:\", V_c, \"[m^3]\")"
   ]
  },
  {
   "cell_type": "markdown",
   "metadata": {},
   "source": [
    "## Compare Obtained Exit Area\n",
    "The following section is meant to compare the obtained expansion area $A_e$ with results from other alternative methods."
   ]
  },
  {
   "cell_type": "markdown",
   "metadata": {},
   "source": [
    "### Expansion Ratio Equation\n",
    "\n",
    "The first method of comparison is to use the equation $\\epsilon = \\frac{A_e}{A_t} = (\\frac{k-1}{2})^{\\frac{1}{2}} (\\frac{2}{k+1})^{\\frac{k+1}{2(k-1)}} (\\frac{P_{amb}}{P_0})^{\\frac{-1}{k}} [1-(\\frac{P_{amb}}{P_0})^{\\frac{k-1}{k}}]^{\\frac{-1}{2}}$ to calculate the expansion ratio."
   ]
  },
  {
   "cell_type": "code",
   "execution_count": 30,
   "metadata": {},
   "outputs": [
    {
     "name": "stdout",
     "output_type": "stream",
     "text": [
      "Calculated Exit area: 44.72629178150887 [cm^2] \n",
      "Calculated Expansion ratio: 4.004895838372133 [-] \n",
      "Difference between Exit areas: -1.0468191410314271 [cm^2] \n",
      "Difference between expansion ratios: -0.09373461233775515 [-]\n"
     ]
    }
   ],
   "source": [
    "# calculate expansion ratio from lare equation\n",
    "exp_ratio_calc = ((k_t - 1) / 2)**(1/2) * (2 / (k_t + 1)) ** ((k_t + 1) / (2 * (k_t - 1))) * (P_amb / P0) ** (-1 / k_t) * (1 - (P_amb / P0) ** ((k_t - 1) / k_t)) ** (-1 / 2)\n",
    "\n",
    "# find exit area from expansion ratio\n",
    "A_e_form = exp_ratio_calc * A_t # exit area [m^2]\n",
    "\n",
    "# find difference between obtained values and formula obtained values\n",
    "diffA_e = A_e - A_e_form # [m^2]\n",
    "diff_exp_ratio = exp_ratio - exp_ratio_calc  # [-]\n",
    "\n",
    "print(\"Calculated Exit area:\", A_e * 10000, \"[cm^2]\", \"\\nCalculated Expansion ratio:\", exp_ratio, \"[-]\", \"\\nDifference between Exit areas:\", diffA_e * 10000, \"[cm^2]\", \"\\nDifference between expansion ratios:\", diff_exp_ratio, \"[-]\")"
   ]
  },
  {
   "cell_type": "markdown",
   "metadata": {},
   "source": [
    "### Expansion Ratio Equation from ROP\n",
    "Another equation we can use is the relation between cross sectional areas and Mach numbers: $\\frac{A_e}{A_t}=\\frac{1}{M_e}\\sqrt{(\\frac{(1+(\\frac{k-1}{2})M_e^2)}{1+\\frac{k-1}{2}})^{\\frac{k+1}{k-1}}}$, where we have used the fact that the Mach number at the throat $M_t = 1$. For the exit Mach number we use the effective exhaust velocity $c$."
   ]
  },
  {
   "cell_type": "code",
   "execution_count": 31,
   "metadata": {},
   "outputs": [
    {
     "name": "stdout",
     "output_type": "stream",
     "text": [
      "Exit Mach number: 2.7453443904189783\n",
      "Calculated Exit area: 45.931855886788725 [cm^2] \n",
      "Calculated Expansion ratio: 4.1128448427678475 [-] \n",
      "Difference between Exit areas: -1.205564105279857 [cm^2] \n",
      "Difference between expansion ratios: -0.10794900439571453 [-]\n"
     ]
    }
   ],
   "source": [
    "c = thrust / mdot # effective exhaust velocity [m/s]\n",
    "M_e_calc2 = c / gas.sound_speed # exit Mach number [-]\n",
    "\n",
    "# find expansion area ratio\n",
    "exp_ratio_calc2 = 1 / M_e_calc2 * np.sqrt(((1 + ((k_t - 1) / 2) * M_e_calc2 ** 2) / (1 + (k_t - 1) / 2)) ** ((k_t + 1) / (k_t - 1)))\n",
    "\n",
    "# find exit area from expansion ratio\n",
    "A_e_calc2 = exp_ratio_calc2 * A_t # exit area [m^2]\n",
    "\n",
    "# find difference between obtained values and formula obtained values\n",
    "diffA_e = A_e - A_e_calc2 # [m^2]\n",
    "diff_exp_ratio = exp_ratio - exp_ratio_calc2  # [-]\n",
    "\n",
    "print(\"Exit Mach number:\", M_e_calc2)\n",
    "print(\"Calculated Exit area:\", A_e_calc2 * 10000, \"[cm^2]\", \"\\nCalculated Expansion ratio:\", exp_ratio_calc2, \"[-]\", \"\\nDifference between Exit areas:\", diffA_e * 10000, \"[cm^2]\", \"\\nDifference between expansion ratios:\", diff_exp_ratio, \"[-]\")"
   ]
  },
  {
   "cell_type": "markdown",
   "metadata": {},
   "source": [
    "### Expansion Ratio Equation from ROP using different exhaust velocity\n",
    "Changing the equation for exhaust velocity to $v_2 = \\sqrt{\\frac{2k}{k-1}R}$"
   ]
  },
  {
   "cell_type": "code",
   "execution_count": 32,
   "metadata": {},
   "outputs": [
    {
     "name": "stdout",
     "output_type": "stream",
     "text": [
      "Speed of sound: 826.5861257842604 [m/s]\n",
      "Exit Mach number: 2.7393461382098407\n",
      "Calculated exit velocity: 2264.305511564947 [m/s]\n",
      "Calculated Exit area: 45.60603793167616 [cm^2] \n",
      "Calculated Expansion ratio: 4.083670347845005 [-] \n",
      "Difference between Exit areas: -0.879746150167296 [cm^2] \n",
      "Difference between expansion ratios: -0.07877450947287201 [-]\n"
     ]
    }
   ],
   "source": [
    "v_e_calc3 = np.sqrt( 2 * k_t / ( k_t - 1 ) * R * T0 * ( 1 - ( P_amb / P0 ) ** ( ( k_t - 1 ) / k_t ) ) ) # exit velocity [m/s]\n",
    "M_e_calc3 = v_e_calc3 / gas.sound_speed # exit Mach number [-]\n",
    "\n",
    "# find expansion area ratio\n",
    "expansion_ratio_calc3 = 1 / M_e_calc3 * np.sqrt(((1 + ((k_t - 1) / 2) * M_e_calc3 ** 2) / (1 + (k_t - 1) / 2)) ** ((k_t + 1) / (k_t - 1))) # expansion area ratio [-]\n",
    "\n",
    "# find exit area from expansion ratio\n",
    "A_e_calc3 = expansion_ratio_calc3 * A_t # exit area [m^2]\n",
    "\n",
    "# find difference between obtained values and formula obtained values\n",
    "diffA_e = A_e - A_e_calc3 # [m^2]\n",
    "diff_exp_ratio = exp_ratio - expansion_ratio_calc3  # [-]\n",
    "\n",
    "print(\"Speed of sound:\", gas.sound_speed, \"[m/s]\")\n",
    "print(\"Exit Mach number:\", M_e_calc3)\n",
    "print(\"Calculated exit velocity:\", v_e_calc3, \"[m/s]\")\n",
    "print(\"Calculated Exit area:\", A_e_calc3 * 10000, \"[cm^2]\", \"\\nCalculated Expansion ratio:\", expansion_ratio_calc3, \"[-]\", \"\\nDifference between Exit areas:\", diffA_e * 10000, \"[cm^2]\", \"\\nDifference between expansion ratios:\", diff_exp_ratio, \"[-]\")"
   ]
  },
  {
   "cell_type": "code",
   "execution_count": null,
   "metadata": {},
   "outputs": [],
   "source": []
  }
 ],
 "metadata": {
  "kernelspec": {
   "display_name": "Python 3 (ipykernel)",
   "language": "python",
   "name": "python3"
  },
  "language_info": {
   "codemirror_mode": {
    "name": "ipython",
    "version": 3
   },
   "file_extension": ".py",
   "mimetype": "text/x-python",
   "name": "python",
   "nbconvert_exporter": "python",
   "pygments_lexer": "ipython3",
   "version": "3.9.7"
  }
 },
 "nbformat": 4,
 "nbformat_minor": 5
}
