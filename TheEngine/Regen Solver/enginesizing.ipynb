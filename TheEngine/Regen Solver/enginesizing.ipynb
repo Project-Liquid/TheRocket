{
 "cells": [
  {
   "cell_type": "markdown",
   "id": "e9f0d7e0-6a56-42e7-bfd9-e5409aff3afb",
   "metadata": {},
   "source": [
    "# Engine Sizing\n",
    "This code is meant to provide initial sizing estimates for the engine."
   ]
  },
  {
   "cell_type": "code",
   "execution_count": 7,
   "id": "17d7bd51-9699-483d-81af-3013b28bf385",
   "metadata": {},
   "outputs": [],
   "source": [
    "import numpy as np\n",
    "import matplotlib.pyplot as plt\n",
    "import cantera as ct  \n",
    "\n",
    "# Defining Main Parameters\n",
    "pc = 2.758e+6                # Chamber (Stagnation) pressure (Pa)\n",
    "T_i = 298.15                # Propellant Inlet Temperature (K) = STP\n",
    "thrust = 4448.22             # Desired thrust (N) = 1000 lbf \n",
    "p_amb = 101325               # Ambient pressure (Pa) - sea level pressure\n",
    "OF = 9                      # OF mass ratio\n",
    "\n",
    "# Defining exhaust gas parameters using Cantera CEA\n",
    "gas = ct.Solution('gri30.yaml')\n",
    "gas.TPY = 298.15, p0, \"C2H6:1, N2O:{}\".format(OF) \n",
    "\n",
    "# Running Cantera CEA\n",
    "gas.equilibrate(\"HP\")\n",
    "Tc = gas.T                           # Combustion chamber temperature (K)\n",
    "s0 = gas.s                           # Entropy - needed for isentropic expansion through nozzle\n",
    "h0 = gas.h                           # Stagnation enthalpy \n",
    "gamma_c = gas.cp/gas.cv"
   ]
  },
  {
   "cell_type": "code",
   "execution_count": null,
   "id": "1b018450-4290-4942-92be-b32da2ca2a93",
   "metadata": {},
   "outputs": [],
   "source": []
  },
  {
   "cell_type": "code",
   "execution_count": null,
   "id": "7c9f8a5f-dad4-47a2-8d0d-709d7462c6c2",
   "metadata": {},
   "outputs": [],
   "source": []
  }
 ],
 "metadata": {
  "kernelspec": {
   "display_name": "Python 3 (ipykernel)",
   "language": "python",
   "name": "python3"
  },
  "language_info": {
   "codemirror_mode": {
    "name": "ipython",
    "version": 3
   },
   "file_extension": ".py",
   "mimetype": "text/x-python",
   "name": "python",
   "nbconvert_exporter": "python",
   "pygments_lexer": "ipython3",
   "version": "3.9.7"
  }
 },
 "nbformat": 4,
 "nbformat_minor": 5
}
