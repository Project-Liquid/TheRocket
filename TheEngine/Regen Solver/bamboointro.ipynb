{
 "cells": [
  {
   "cell_type": "markdown",
   "metadata": {
    "tags": []
   },
   "source": [
    "# Introduction to Bamboo\n",
    "\n",
    "*December 2021*\n",
    "\n",
    "Bamboo is Python package for modelling the cooling systems of liquid rocket engines. \n",
    "\n",
    "Most of its functionality revolves around the `bamboo.engine.Engine` class. Full documentation is available at https://cuspaceflight.github.io/bamboo/.\n",
    "\n",
    "### Contents: \n",
    "- <a href='#Simple Engine Example'>Simple Engine Example</a>\n",
    "- <a href='#Running a cooling system analysis'>Running a cooling system analysis</a>"
   ]
  },
  {
   "cell_type": "markdown",
   "metadata": {},
   "source": [
    "##  <ins> *Simple Engine Example* </ins> <a id='Simple Engine Example'></a>\n",
    "\n",
    "We will start with an example of creating an Engine. \n",
    "\n",
    "To create an Engine object, we need to first create three sub-objects: \n",
    "- A <b>PerfectGas</b> object\n",
    "- A <b>ChamberConditions</b> object\n",
    "- A <b>Geometry</b> object\n",
    "\n",
    "We will first import bamboo and any other modules we need, and will then specify the operating conditions for our engine."
   ]
  },
  {
   "cell_type": "markdown",
   "metadata": {},
   "source": [
    "### Our Variables\n",
    "We use a nitrous ($N_2O$), ethane ($C_2H_6$) engine.\n",
    "\n",
    "- Chamber Pressure (MEOP): 2.758e+6 Pa [Confluence]\n",
    "- OF Ratio (Stoichiometric): 9 [Worst Case Result From Cantera CEA]"
   ]
  },
  {
   "cell_type": "code",
   "execution_count": 2,
   "metadata": {},
   "outputs": [],
   "source": [
    "import cusfbamboo as bam\n",
    "import numpy as np\n",
    "import matplotlib.pyplot as plt\n",
    "from CoolProp.CoolProp import PropsSI\n",
    "\n",
    "import cantera as ct  "
   ]
  },
  {
   "cell_type": "markdown",
   "metadata": {},
   "source": [
    "### Find Exhaust Gas Properties\n",
    "\n",
    "Find exhaust gas properties using Cantera."
   ]
  },
  {
   "cell_type": "code",
   "execution_count": 3,
   "metadata": {},
   "outputs": [],
   "source": [
    "# Chamber conditions\n",
    "_pc = 2.758e+6                # Chamber pressure (Pa)\n",
    "thrust = 4448.22             # Desired thrust (N)\n",
    "p_amb = 101325               # Ambient pressure (Pa) - sea level pressure\n",
    "OF = 9                      # OF mass ratio\n",
    "\n",
    "# We define our gas mixture via propellant initial temperature, pressure, mass ratio\n",
    "gas = ct.Solution('gri30.yaml')\n",
    "gas.TPY = 298.15, _pc, \"C2H6:1, N2O:{}\".format(OF)   # Very approximate fuel/ox inlet temperature (STP - standard ambient temperature)\n",
    "# Solution properties before chemical equilibrium\n",
    "# gas()"
   ]
  },
  {
   "cell_type": "code",
   "execution_count": 16,
   "metadata": {},
   "outputs": [],
   "source": [
    "gas.equilibrate(\"HP\") # Equilibrate keeping enthalpy and pressure constant \n",
    "\n",
    "_Tc = gas.T                          # Combustion chamber temperature (K)\n",
    "_s0 = gas.s                           # Entropy - needed for isentropic expansion through nozzle\n",
    "_h0 = gas.h                           # Stagnation enthalpy \n",
    "_molecular_weight = gas.mean_molecular_weight\n",
    "_gamma_c = gas.cp/gas.cv\n",
    "\n",
    "print(f\"\"\"\n",
    "Chamber temperature = {_Tc:.2f} K\n",
    "gamma = {_gamma:.3f}\n",
    "Mean Molecular Weight = {_molecular_weight:.3f}\n",
    "\"\"\")"
   ]
  },
  {
   "cell_type": "code",
   "execution_count": 18,
   "metadata": {},
   "outputs": [],
   "source": [
    "# See state of solution after combustion\n",
    "# gas()"
   ]
  },
  {
   "cell_type": "code",
   "execution_count": 24,
   "metadata": {
    "scrolled": true
   },
   "outputs": [],
   "source": [
    "'''Chosen operating points'''\n",
    "pc = _pc          # Chamber pressure (Pa)\n",
    "\n",
    "'''Using values obtained from Cantera CEA'''\n",
    "gamma = _gamma              # Ratio of specific heats cp/cv \n",
    "molecular_weight = _molecular_weight   # Molecular weight of the exhaust gas (kg/kmol) \n",
    "Tc = _Tc             # Chamber temperature (K)"
   ]
  },
  {
   "cell_type": "markdown",
   "metadata": {},
   "source": [
    "### PerfectGas and ChamberConditions\n",
    "\n",
    "To define our perfect gas, we must specify two of its properties. See the documentation available options. As of writing, the available keyword arguments are `gamma`, `molecular_weight` and `cp`.\n",
    "\n",
    "To define our ChamberConditions, we need the chamber stagnation pressure `p0`, and the chamber stagnation temperature `T0`."
   ]
  },
  {
   "cell_type": "code",
   "execution_count": 25,
   "metadata": {
    "scrolled": true
   },
   "outputs": [],
   "source": [
    "perfect_gas = bam.PerfectGas(gamma = gamma, molecular_weight = molecular_weight)\n",
    "chamber_conditions = bam.ChamberConditions(p0 = pc, T0 = Tc)"
   ]
  },
  {
   "cell_type": "markdown",
   "metadata": {},
   "source": [
    "### Geometry (Currently Undefined)\n",
    "\n",
    "To define the geometry of the engine, you must submit a list of x and y coordinates which represent the engine contour. These are given as two separate inputs `xs` and `ys`, to a `bamboo.engine.Geometry` class. The throat area is automatically found based on the minimum value in `ys`, and is used to calculate the choked mass flow rate of propellants when you set up an `Engine` object (later).\n",
    "\n",
    "In this example we will use a simple conical nozzle. There is also a `rao` module available to automatically calculate the contour for a Rao bell nozzle."
   ]
  },
  {
   "cell_type": "code",
   "execution_count": 26,
   "metadata": {},
   "outputs": [],
   "source": [
    "xs = [-0.150, -0.050, 0.0, 0.025]         # The values in 'xs' must be in increasing order\n",
    "rs = [0.045, 0.045, 0.02, 0.025]\n",
    "geometry = bam.Geometry(xs = xs, rs = rs)"
   ]
  },
  {
   "cell_type": "markdown",
   "metadata": {},
   "source": [
    "### Engine\n",
    "\n",
    "We can now set up our `Engine` class and calculate simple properties such as thrust and specific impulse. To run an actual cooling analysis, we will need to specify more inputs, which is explained in the next section."
   ]
  },
  {
   "cell_type": "code",
   "execution_count": 30,
   "metadata": {},
   "outputs": [
    {
     "data": {
      "image/png": "[encoded data removed]",
      "text/plain": [
       "<Figure size 432x288 with 1 Axes>"
      ]
     },
     "metadata": {
      "needs_background": "light"
     },
     "output_type": "display_data"
    },
    {
     "data": {
      "text/plain": [
       "'\\nprint(f\"Sea level thrust = {engine.thrust(p_amb = 1e5)/1000} kN\")\\nprint(f\"Sea level Isp = {engine.isp(p_amb = 1e5)/9.81} s\")\\n\\nprint(f\"\\nThroat pressure = {engine.p(x = geometry.x_t)/1e5} bar\")\\nprint(f\"Throat temperature = {engine.T(x = geometry.x_t)} K\")\\nprint(f\"Throat Mach number = {engine.M(x = geometry.x_t)}\")\\n\\nprint(f\"\\nExit pressure = {engine.p(xs[-1])/1e5} bar\")\\nprint(f\"Exit temperature = {engine.T(xs[-1])} K\")\\nprint(f\"Exit Mach number = {engine.M(xs[-1])}\")\\n'"
      ]
     },
     "execution_count": 30,
     "metadata": {},
     "output_type": "execute_result"
    }
   ],
   "source": [
    "engine = bam.Engine(perfect_gas = perfect_gas, \n",
    "                    chamber_conditions = chamber_conditions, \n",
    "                    geometry = geometry)\n",
    "engine.plot()\n",
    "bam.show()\n",
    "'''\n",
    "print(f\"Sea level thrust = {engine.thrust(p_amb = 1e5)/1000} kN\")\n",
    "print(f\"Sea level Isp = {engine.isp(p_amb = 1e5)/9.81} s\")\n",
    "\n",
    "print(f\"\\nThroat pressure = {engine.p(x = geometry.x_t)/1e5} bar\")\n",
    "print(f\"Throat temperature = {engine.T(x = geometry.x_t)} K\")\n",
    "print(f\"Throat Mach number = {engine.M(x = geometry.x_t)}\")\n",
    "\n",
    "print(f\"\\nExit pressure = {engine.p(xs[-1])/1e5} bar\")\n",
    "print(f\"Exit temperature = {engine.T(xs[-1])} K\")\n",
    "print(f\"Exit Mach number = {engine.M(xs[-1])}\")\n",
    "'''"
   ]
  },
  {
   "cell_type": "markdown",
   "metadata": {},
   "source": [
    "## <ins> *Running a cooling system analysis* </ins> <a id='Running a cooling system analysis'></a>\n",
    "\n",
    "To run a cooling system analysis, we need to specify the following:\n",
    "- Transport properties of the exhaust gas and the coolant, using the `TransportProperties` class.\n",
    "- The wall thicknesses and materials, using a `Wall` class.\n",
    "- The cooling jacket geometry, using the `CoolingJacket` class."
   ]
  },
  {
   "cell_type": "markdown",
   "metadata": {},
   "source": [
    "### Exhaust gas and coolant transport properties\n",
    "\n",
    "You will need to decide on a way to calculate your exhaust gas and coolant transport properties. <b>CoolProp</b>, <b>thermo</b> and <b>Cantera</b> are Python modules that can help with this. In this example we'll use <b>CoolProp</b>.\n",
    "\n",
    "You can either choose to use constants for your transport properties or functions. If using functions, you must submit your functions in the form <b>func(T, p)</b> where T is the temperature in K and p is pressure in Pa."
   ]
  },
  {
   "cell_type": "code",
   "execution_count": 52,
   "metadata": {
    "scrolled": true
   },
   "outputs": [],
   "source": [
    "# We set up an exhaust gas model using Cantera - using the exhaust gas properties we found before\n",
    "# Then we set up the coolant transport properties with CoolProp\n",
    "\n",
    "# Setup the exhaust gas transport properties using Cantera\n",
    "def Pr_exhaust(T, p):\n",
    "    gas.TP = T, p\n",
    "    return gas.cp * gas.viscosity / gas.thermal_conductivity # Definition of Prandtl number (from bamboo Cantera example)\n",
    "\n",
    "def mu_exhaust(T, p):\n",
    "    gas.TP = T, p\n",
    "    return gas.viscosity\n",
    "\n",
    "def k_exhaust(T, p):\n",
    "    gas.TP = T, p\n",
    "    return gas.thermal_conductivity\n",
    "\n",
    "exhaust_transport = bam.TransportProperties(Pr = Pr_exhaust,\n",
    "                                            mu = mu_exhaust,\n",
    "                                            k = k_exhaust)\n",
    "\n",
    "# Set up the coolant transport properties using Cantera\n",
    "# defining coolant:\n",
    "coolant = ct.Solution('gri30.yaml')\n",
    "coolant.TPY = 298.15, _pc, \"N2O:1\" # defining starting conditions for coolant to be at chamber pressure and standard ambient temperature\n",
    "\n",
    "coolant_name = \"NITROUSOXIDE\"\n",
    "def Pr_coolant(T, p):\n",
    "    coolant.TP = T, p\n",
    "    return coolant.cp * coolant.viscosity / coolant.thermal_conductivity # Definition of Prandtl number (from bamboo Cantera example)\n",
    "\n",
    "def mu_coolant(T, p):\n",
    "    coolant.TP = T, p\n",
    "    return gas.viscosity\n",
    "\n",
    "def k_coolant(T, p):\n",
    "    coolant.TP = T, p\n",
    "    return coolant.thermal_conductivity\n",
    "\n",
    "def cp_coolant(T, p):\n",
    "    coolant.TP = T, p\n",
    "    return coolant.cp\n",
    "\n",
    "def rho_coolant(T, p):\n",
    "    coolant.TP = T, p\n",
    "    return coolant.density_mass\n",
    "\n",
    "\n",
    "coolant_transport = bam.TransportProperties(Pr = Pr_coolant,\n",
    "                                            mu = mu_coolant,\n",
    "                                            k = k_coolant,\n",
    "                                            cp = cp_coolant,\n",
    "                                            rho = rho_coolant)\n",
    "\n",
    "# Note: when using CoolProp for coolant trasnport properties, get following error\n",
    "# ValueError: Viscosity model is not available for this fluid : \n",
    "# PropsSI(\"PRANDTL\",\"T\",298.15,\"P\",2758000,\"NITROUSOXIDE\")\n",
    "# so using Cantera instead"
   ]
  },
  {
   "cell_type": "markdown",
   "metadata": {},
   "source": [
    "### Walls\n",
    "\n",
    "You can specify the walls of the engine to either have a constant thickness (by submitting a float), or having a variable thickness. To specify a variable thickness, you must submit a function to the `thickness` argument when setting up the Walls class. This function must take the x-position as an argument.\n",
    "\n",
    "You can either add a single wall, or multiple walls by submitting a list of walls to the `Engine` class. In this example we'll use two walls."
   ]
  },
  {
   "cell_type": "code",
   "execution_count": 53,
   "metadata": {},
   "outputs": [],
   "source": [
    "copper = bam.Material(E = 117e9, poisson = 0.34, alpha = 16.9e-6, k = 391.2)\n",
    "#stainless_steel = bam.Material(E = 193e9, poisson = 0.29, alpha = 16e-6, k = 14.0)\n",
    "\n",
    "def variable_thickness(x):\n",
    "    fraction = (x - xs[0]) / (xs[-1] - xs[0])\n",
    "    return 4e-3 * (1 - fraction) + 1e-3\n",
    "\n",
    "inner_wall = bam.Wall(material = copper, thickness = 2e-3)\n",
    "#outer_wall = bam.Wall(material = stainless_steel, thickness = variable_thickness)   # Thickness that decreases with increasing x"
   ]
  },
  {
   "cell_type": "markdown",
   "metadata": {},
   "source": [
    "### Cooling jacket\n",
    "\n",
    "This specifies the cooling jacket geometry. We can choose a `'spiral'` cooling jacket (<a href='https://www.researchgate.net/publication/334702281/figure/fig3/AS:784891427971073@1564144107544/Structure-of-Zawiszas-regenerative-cooled-chamber.jpg'>example</a>), or a `'vertical'` cooling jacket (<a href='https://slideplayer.com/slide/4179683/14/images/6/Cooling+Channels.jpg'>example</a>).\n",
    "\n",
    "We can choose to only have the cooling jacket over a limited region of the engine using the `xs` argument to the `CoolingJacket` object. e.g. using `xs = [0, 0.5]` means the cooling jacket will only be present from x = 0 to x = 0.5.\n",
    "\n",
    "More info can be found in the [Cooling Jacket Documentation](https://cuspaceflight.github.io/bamboo/index.html?highlight=coolingjacket#cusfbamboo.engine.CoolingJacket)"
   ]
  },
  {
   "cell_type": "code",
   "execution_count": 54,
   "metadata": {},
   "outputs": [],
   "source": [
    "'''Cooling jacket properties'''\n",
    "inlet_T = 298.15                           # Coolant inlet static temperature (K)\n",
    "inlet_p = _pc                              # Coolant inlet static pressure (Pa) - set as selected chamber pressure for now\n",
    "OF_ratio = OF                              # Oxidizer/fuel mass ratio - set as the one used for Cantera CEA\n",
    "mdot_coolant = engine.mdot/(OF_ratio + 1)  # Mass flow rate of coolant\n",
    "\n",
    "'''Add a spiral cooling jacket to the engine'''\n",
    "# See the documentation for a full list of cooling jacket options\n",
    "cooling_jacket = bam.CoolingJacket(T_coolant_in = inlet_T, \n",
    "                                  p_coolant_in = inlet_p, \n",
    "                                  mdot_coolant = mdot_coolant, \n",
    "                                  channel_height = 1e-3,\n",
    "                                  channel_width = 1e-3,\n",
    "                                  coolant_transport = coolant_transport,\n",
    "                                  configuration = 'vertical')"
   ]
  },
  {
   "cell_type": "markdown",
   "metadata": {},
   "source": [
    "## Running a steady state heating simulation\n",
    "\n",
    "We can now set up the full `Engine` object, and run a steady state heating simulation with ease. This uses 1-D radial thermal circuit theory to find the heat transfer through the wall, and temperatures at each point."
   ]
  },
  {
   "cell_type": "code",
   "execution_count": 55,
   "metadata": {},
   "outputs": [
    {
     "data": {
      "image/png": "[encoded data removed]",
      "text/plain": [
       "<Figure size 432x288 with 1 Axes>"
      ]
     },
     "metadata": {
      "needs_background": "light"
     },
     "output_type": "display_data"
    },
    {
     "name": "stdout",
     "output_type": "stream",
     "text": [
      "\n",
      "Coolant exit temperature: 367.45947363716533 K\n",
      "\n",
      "dict_keys(['info', 'x', 'T', 'T_coolant', 'T_exhaust', 'dQ_dx', 'dQ_dLc', 'dQ_dA', 'Rdx', 'p_coolant', 'rho_coolant', 'V_coolant', 'Dh_coolant', 'sigma_t_thermal', 'sigma_t_pressure', 'sigma_t_max', 'r'])\n",
      "\n",
      "Information on the 'T' key:\n",
      "Static temperature at each position (K). T[i][j], is the temperature at x[i], at the j'th wall boundary. j = 0 corresponds to the coolant, j = -1 corresponds to the exhaust gas.\n"
     ]
    }
   ],
   "source": [
    "engine = bam.Engine(perfect_gas = perfect_gas, \n",
    "                    chamber_conditions = chamber_conditions, \n",
    "                    geometry = geometry,\n",
    "                    exhaust_transport = exhaust_transport,\n",
    "                    cooling_jacket = cooling_jacket,\n",
    "                    walls = [inner_wall],\n",
    "                    coolant_convection = \"gnielinski\",\n",
    "                    exhaust_convection = \"bartz-sigma\")\n",
    "\n",
    "engine.plot()\n",
    "bam.show()\n",
    "\n",
    "# Run the heating analysis - see the documentation for details on the various arguments.\n",
    "cooling_data = engine.steady_heating_analysis()\n",
    "\n",
    "print(f\"\\nCoolant exit temperature: {cooling_data['T_coolant'][-1]} K\")\n",
    "\n",
    "# Print of the keys so we can see what data is available\n",
    "print(\"\")\n",
    "print(cooling_data.keys())\n",
    "\n",
    "# We can get information on what each key means, with the 'info' key.\n",
    "print(\"\\nInformation on the 'T' key:\")\n",
    "print(cooling_data[\"info\"][\"T\"])"
   ]
  },
  {
   "cell_type": "markdown",
   "metadata": {},
   "source": [
    "Plot the results:"
   ]
  },
  {
   "cell_type": "code",
   "execution_count": 57,
   "metadata": {},
   "outputs": [
    {
     "data": {
      "image/png": "[encoded data removed]",
      "text/plain": [
       "<Figure size 432x288 with 1 Axes>"
      ]
     },
     "metadata": {
      "needs_background": "light"
     },
     "output_type": "display_data"
    },
    {
     "data": {
      "image/png": "[encoded data removed]",
      "text/plain": [
       "<Figure size 432x288 with 1 Axes>"
      ]
     },
     "metadata": {
      "needs_background": "light"
     },
     "output_type": "display_data"
    },
    {
     "data": {
      "image/png": "[encoded data removed]",
      "text/plain": [
       "<Figure size 432x288 with 1 Axes>"
      ]
     },
     "metadata": {
      "needs_background": "light"
     },
     "output_type": "display_data"
    },
    {
     "data": {
      "image/png": "[encoded data removed]",
      "text/plain": [
       "<Figure size 432x288 with 1 Axes>"
      ]
     },
     "metadata": {
      "needs_background": "light"
     },
     "output_type": "display_data"
    },
    {
     "data": {
      "image/png": "[encoded data removed]",
      "text/plain": [
       "<Figure size 432x288 with 1 Axes>"
      ]
     },
     "metadata": {
      "needs_background": "light"
     },
     "output_type": "display_data"
    }
   ],
   "source": [
    "#Use the built in plotting functions to quickly generate some plots\n",
    "bam.plot.plot_temperatures(cooling_data)\n",
    "bam.show()\n",
    "\n",
    "bam.plot.plot_temperatures(cooling_data, only_indexes = [0, 1,2,3])   # Exclude the exhaust gas temperature from the plot\n",
    "bam.show()\n",
    "\n",
    "bam.plot.plot_p_coolant(cooling_data)\n",
    "bam.show()\n",
    "\n",
    "bam.plot.plot_q_per_area(cooling_data)\n",
    "bam.show()\n",
    "\n",
    "bam.plot.plot_tangential_stress(cooling_data, wall_index = 0)\n",
    "plt.title(\"Inner Wall Tangential Stress\")\n",
    "bam.show()"
   ]
  },
  {
   "cell_type": "code",
   "execution_count": null,
   "metadata": {},
   "outputs": [],
   "source": []
  },
  {
   "cell_type": "code",
   "execution_count": null,
   "metadata": {},
   "outputs": [],
   "source": []
  },
  {
   "cell_type": "code",
   "execution_count": null,
   "metadata": {},
   "outputs": [],
   "source": []
  },
  {
   "cell_type": "code",
   "execution_count": null,
   "metadata": {},
   "outputs": [],
   "source": []
  },
  {
   "cell_type": "code",
   "execution_count": null,
   "metadata": {},
   "outputs": [],
   "source": []
  },
  {
   "cell_type": "code",
   "execution_count": null,
   "metadata": {},
   "outputs": [],
   "source": []
  },
  {
   "cell_type": "code",
   "execution_count": null,
   "metadata": {},
   "outputs": [],
   "source": []
  },
  {
   "cell_type": "code",
   "execution_count": null,
   "metadata": {},
   "outputs": [],
   "source": []
  },
  {
   "cell_type": "code",
   "execution_count": null,
   "metadata": {},
   "outputs": [],
   "source": []
  },
  {
   "cell_type": "code",
   "execution_count": null,
   "metadata": {},
   "outputs": [],
   "source": []
  },
  {
   "cell_type": "code",
   "execution_count": null,
   "metadata": {},
   "outputs": [],
   "source": []
  },
  {
   "cell_type": "code",
   "execution_count": null,
   "metadata": {},
   "outputs": [],
   "source": []
  },
  {
   "cell_type": "code",
   "execution_count": null,
   "metadata": {},
   "outputs": [],
   "source": []
  },
  {
   "cell_type": "code",
   "execution_count": null,
   "metadata": {},
   "outputs": [],
   "source": []
  },
  {
   "cell_type": "code",
   "execution_count": null,
   "metadata": {},
   "outputs": [],
   "source": []
  },
  {
   "cell_type": "code",
   "execution_count": null,
   "metadata": {},
   "outputs": [],
   "source": []
  },
  {
   "cell_type": "code",
   "execution_count": null,
   "metadata": {},
   "outputs": [],
   "source": []
  },
  {
   "cell_type": "code",
   "execution_count": null,
   "metadata": {},
   "outputs": [],
   "source": []
  },
  {
   "cell_type": "code",
   "execution_count": null,
   "metadata": {},
   "outputs": [],
   "source": []
  },
  {
   "cell_type": "code",
   "execution_count": null,
   "metadata": {},
   "outputs": [],
   "source": []
  },
  {
   "cell_type": "code",
   "execution_count": null,
   "metadata": {},
   "outputs": [],
   "source": []
  },
  {
   "cell_type": "code",
   "execution_count": null,
   "metadata": {},
   "outputs": [],
   "source": []
  },
  {
   "cell_type": "code",
   "execution_count": null,
   "metadata": {},
   "outputs": [],
   "source": []
  },
  {
   "cell_type": "code",
   "execution_count": null,
   "metadata": {},
   "outputs": [],
   "source": []
  },
  {
   "cell_type": "code",
   "execution_count": null,
   "metadata": {},
   "outputs": [],
   "source": []
  },
  {
   "cell_type": "code",
   "execution_count": null,
   "metadata": {},
   "outputs": [],
   "source": []
  },
  {
   "cell_type": "code",
   "execution_count": null,
   "metadata": {},
   "outputs": [],
   "source": []
  },
  {
   "cell_type": "code",
   "execution_count": null,
   "metadata": {},
   "outputs": [],
   "source": []
  },
  {
   "cell_type": "code",
   "execution_count": null,
   "metadata": {},
   "outputs": [],
   "source": []
  },
  {
   "cell_type": "code",
   "execution_count": null,
   "metadata": {},
   "outputs": [],
   "source": []
  },
  {
   "cell_type": "code",
   "execution_count": null,
   "metadata": {},
   "outputs": [],
   "source": []
  }
 ],
 "metadata": {
  "kernelspec": {
   "display_name": "Python 3 (ipykernel)",
   "language": "python",
   "name": "python3"
  },
  "language_info": {
   "codemirror_mode": {
    "name": "ipython",
    "version": 3
   },
   "file_extension": ".py",
   "mimetype": "text/x-python",
   "name": "python",
   "nbconvert_exporter": "python",
   "pygments_lexer": "ipython3",
   "version": "3.9.7"
  }
 },
 "nbformat": 4,
 "nbformat_minor": 4
}
