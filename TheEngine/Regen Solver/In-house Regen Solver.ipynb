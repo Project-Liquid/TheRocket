{
 "cells": [
  {
   "cell_type": "code",
   "execution_count": 4,
   "id": "0aa3fe08",
   "metadata": {},
   "outputs": [],
   "source": [
    "import numpy as np\n",
    "import matplotlib.pyplot as plt\n",
    "import cantera as ct\n",
    "from CoolProp.CoolProp import PropsSI"
   ]
  },
  {
   "cell_type": "markdown",
   "id": "93caff65",
   "metadata": {},
   "source": [
    "# Pull values from Master Sheet"
   ]
  },
  {
   "cell_type": "code",
   "execution_count": 18,
   "id": "56252eaa",
   "metadata": {},
   "outputs": [
    {
     "name": "stdout",
     "output_type": "stream",
     "text": [
      "C:\\Users\\Kidus\\Desktop\\TheRocket\n"
     ]
    }
   ],
   "source": [
    "import os\n",
    "import sys\n",
    "\n",
    "# Navigate to the parent directory ('TheRocket')\n",
    "os.chdir('C:/Users/Kidus/Desktop/TheRocket')\n",
    "# Now import your module\n",
    "import pythonExcelPull"
   ]
  },
  {
   "cell_type": "code",
   "execution_count": 19,
   "id": "56738d98",
   "metadata": {},
   "outputs": [
    {
     "ename": "FileNotFoundError",
     "evalue": "[Errno 2] No such file or directory: '../MasterParameters.xlsx'",
     "output_type": "error",
     "traceback": [
      "\u001b[1;31m---------------------------------------------------------------------------\u001b[0m",
      "\u001b[1;31mFileNotFoundError\u001b[0m                         Traceback (most recent call last)",
      "Cell \u001b[1;32mIn[19], line 6\u001b[0m\n\u001b[0;32m      2\u001b[0m \u001b[38;5;28;01mimport\u001b[39;00m \u001b[38;5;21;01mpythonExcelPull\u001b[39;00m\n\u001b[0;32m      4\u001b[0m \u001b[38;5;66;03m#Must have openpyxl installed in python environment, separately from the pandas install! Pandas will call on this\u001b[39;00m\n\u001b[0;32m      5\u001b[0m \u001b[38;5;66;03m# Read the Excel file\u001b[39;00m\n\u001b[1;32m----> 6\u001b[0m df \u001b[38;5;241m=\u001b[39m pd\u001b[38;5;241m.\u001b[39mread_excel(\u001b[38;5;124m'\u001b[39m\u001b[38;5;124m../MasterParameters.xlsx\u001b[39m\u001b[38;5;124m'\u001b[39m)\n\u001b[0;32m      8\u001b[0m \u001b[38;5;66;03m# List of variables to pull from the Excel file\u001b[39;00m\n\u001b[0;32m      9\u001b[0m variables_to_pull \u001b[38;5;241m=\u001b[39m [\u001b[38;5;124m'\u001b[39m\u001b[38;5;124mheightPayload\u001b[39m\u001b[38;5;124m'\u001b[39m,\n\u001b[0;32m     10\u001b[0m                      \u001b[38;5;124m'\u001b[39m\u001b[38;5;124mheightNoseCone\u001b[39m\u001b[38;5;124m'\u001b[39m,\n\u001b[0;32m     11\u001b[0m                      \u001b[38;5;124m'\u001b[39m\u001b[38;5;124mheightMainBay\u001b[39m\u001b[38;5;124m'\u001b[39m,\n\u001b[1;32m   (...)\u001b[0m\n\u001b[0;32m     21\u001b[0m                      \u001b[38;5;124m'\u001b[39m\u001b[38;5;124mtankThick\u001b[39m\u001b[38;5;124m'\u001b[39m\n\u001b[0;32m     22\u001b[0m ]\n",
      "File \u001b[1;32m~\\anaconda3\\Lib\\site-packages\\pandas\\io\\excel\\_base.py:478\u001b[0m, in \u001b[0;36mread_excel\u001b[1;34m(io, sheet_name, header, names, index_col, usecols, dtype, engine, converters, true_values, false_values, skiprows, nrows, na_values, keep_default_na, na_filter, verbose, parse_dates, date_parser, date_format, thousands, decimal, comment, skipfooter, storage_options, dtype_backend)\u001b[0m\n\u001b[0;32m    476\u001b[0m \u001b[38;5;28;01mif\u001b[39;00m \u001b[38;5;129;01mnot\u001b[39;00m \u001b[38;5;28misinstance\u001b[39m(io, ExcelFile):\n\u001b[0;32m    477\u001b[0m     should_close \u001b[38;5;241m=\u001b[39m \u001b[38;5;28;01mTrue\u001b[39;00m\n\u001b[1;32m--> 478\u001b[0m     io \u001b[38;5;241m=\u001b[39m ExcelFile(io, storage_options\u001b[38;5;241m=\u001b[39mstorage_options, engine\u001b[38;5;241m=\u001b[39mengine)\n\u001b[0;32m    479\u001b[0m \u001b[38;5;28;01melif\u001b[39;00m engine \u001b[38;5;129;01mand\u001b[39;00m engine \u001b[38;5;241m!=\u001b[39m io\u001b[38;5;241m.\u001b[39mengine:\n\u001b[0;32m    480\u001b[0m     \u001b[38;5;28;01mraise\u001b[39;00m \u001b[38;5;167;01mValueError\u001b[39;00m(\n\u001b[0;32m    481\u001b[0m         \u001b[38;5;124m\"\u001b[39m\u001b[38;5;124mEngine should not be specified when passing \u001b[39m\u001b[38;5;124m\"\u001b[39m\n\u001b[0;32m    482\u001b[0m         \u001b[38;5;124m\"\u001b[39m\u001b[38;5;124man ExcelFile - ExcelFile already has the engine set\u001b[39m\u001b[38;5;124m\"\u001b[39m\n\u001b[0;32m    483\u001b[0m     )\n",
      "File \u001b[1;32m~\\anaconda3\\Lib\\site-packages\\pandas\\io\\excel\\_base.py:1496\u001b[0m, in \u001b[0;36mExcelFile.__init__\u001b[1;34m(self, path_or_buffer, engine, storage_options)\u001b[0m\n\u001b[0;32m   1494\u001b[0m     ext \u001b[38;5;241m=\u001b[39m \u001b[38;5;124m\"\u001b[39m\u001b[38;5;124mxls\u001b[39m\u001b[38;5;124m\"\u001b[39m\n\u001b[0;32m   1495\u001b[0m \u001b[38;5;28;01melse\u001b[39;00m:\n\u001b[1;32m-> 1496\u001b[0m     ext \u001b[38;5;241m=\u001b[39m inspect_excel_format(\n\u001b[0;32m   1497\u001b[0m         content_or_path\u001b[38;5;241m=\u001b[39mpath_or_buffer, storage_options\u001b[38;5;241m=\u001b[39mstorage_options\n\u001b[0;32m   1498\u001b[0m     )\n\u001b[0;32m   1499\u001b[0m     \u001b[38;5;28;01mif\u001b[39;00m ext \u001b[38;5;129;01mis\u001b[39;00m \u001b[38;5;28;01mNone\u001b[39;00m:\n\u001b[0;32m   1500\u001b[0m         \u001b[38;5;28;01mraise\u001b[39;00m \u001b[38;5;167;01mValueError\u001b[39;00m(\n\u001b[0;32m   1501\u001b[0m             \u001b[38;5;124m\"\u001b[39m\u001b[38;5;124mExcel file format cannot be determined, you must specify \u001b[39m\u001b[38;5;124m\"\u001b[39m\n\u001b[0;32m   1502\u001b[0m             \u001b[38;5;124m\"\u001b[39m\u001b[38;5;124man engine manually.\u001b[39m\u001b[38;5;124m\"\u001b[39m\n\u001b[0;32m   1503\u001b[0m         )\n",
      "File \u001b[1;32m~\\anaconda3\\Lib\\site-packages\\pandas\\io\\excel\\_base.py:1371\u001b[0m, in \u001b[0;36minspect_excel_format\u001b[1;34m(content_or_path, storage_options)\u001b[0m\n\u001b[0;32m   1368\u001b[0m \u001b[38;5;28;01mif\u001b[39;00m \u001b[38;5;28misinstance\u001b[39m(content_or_path, \u001b[38;5;28mbytes\u001b[39m):\n\u001b[0;32m   1369\u001b[0m     content_or_path \u001b[38;5;241m=\u001b[39m BytesIO(content_or_path)\n\u001b[1;32m-> 1371\u001b[0m \u001b[38;5;28;01mwith\u001b[39;00m get_handle(\n\u001b[0;32m   1372\u001b[0m     content_or_path, \u001b[38;5;124m\"\u001b[39m\u001b[38;5;124mrb\u001b[39m\u001b[38;5;124m\"\u001b[39m, storage_options\u001b[38;5;241m=\u001b[39mstorage_options, is_text\u001b[38;5;241m=\u001b[39m\u001b[38;5;28;01mFalse\u001b[39;00m\n\u001b[0;32m   1373\u001b[0m ) \u001b[38;5;28;01mas\u001b[39;00m handle:\n\u001b[0;32m   1374\u001b[0m     stream \u001b[38;5;241m=\u001b[39m handle\u001b[38;5;241m.\u001b[39mhandle\n\u001b[0;32m   1375\u001b[0m     stream\u001b[38;5;241m.\u001b[39mseek(\u001b[38;5;241m0\u001b[39m)\n",
      "File \u001b[1;32m~\\anaconda3\\Lib\\site-packages\\pandas\\io\\common.py:868\u001b[0m, in \u001b[0;36mget_handle\u001b[1;34m(path_or_buf, mode, encoding, compression, memory_map, is_text, errors, storage_options)\u001b[0m\n\u001b[0;32m    859\u001b[0m         handle \u001b[38;5;241m=\u001b[39m \u001b[38;5;28mopen\u001b[39m(\n\u001b[0;32m    860\u001b[0m             handle,\n\u001b[0;32m    861\u001b[0m             ioargs\u001b[38;5;241m.\u001b[39mmode,\n\u001b[1;32m   (...)\u001b[0m\n\u001b[0;32m    864\u001b[0m             newline\u001b[38;5;241m=\u001b[39m\u001b[38;5;124m\"\u001b[39m\u001b[38;5;124m\"\u001b[39m,\n\u001b[0;32m    865\u001b[0m         )\n\u001b[0;32m    866\u001b[0m     \u001b[38;5;28;01melse\u001b[39;00m:\n\u001b[0;32m    867\u001b[0m         \u001b[38;5;66;03m# Binary mode\u001b[39;00m\n\u001b[1;32m--> 868\u001b[0m         handle \u001b[38;5;241m=\u001b[39m \u001b[38;5;28mopen\u001b[39m(handle, ioargs\u001b[38;5;241m.\u001b[39mmode)\n\u001b[0;32m    869\u001b[0m     handles\u001b[38;5;241m.\u001b[39mappend(handle)\n\u001b[0;32m    871\u001b[0m \u001b[38;5;66;03m# Convert BytesIO or file objects passed with an encoding\u001b[39;00m\n",
      "\u001b[1;31mFileNotFoundError\u001b[0m: [Errno 2] No such file or directory: '../MasterParameters.xlsx'"
     ]
    }
   ],
   "source": [
    "import pandas as pd\n",
    "import pythonExcelPull\n",
    "\n",
    "#Must have openpyxl installed in python environment, separately from the pandas install! Pandas will call on this\n",
    "# Read the Excel file\n",
    "df = pd.read_excel('../MasterParameters.xlsx')\n",
    "\n",
    "# List of variables to pull from the Excel file\n",
    "variables_to_pull = ['heightPayload',\n",
    "                     'heightNoseCone',\n",
    "                     'heightMainBay',\n",
    "                     'heightAvBay',\n",
    "                     'heightDrogueBay',\n",
    "                     'heightCoupler3',\n",
    "                     'heightOx',\n",
    "                     'heightFuel',\n",
    "                     'heightCoupler2',\n",
    "                     'heightCoupler1',\n",
    "                     'heightEngine',\n",
    "                     'OD',\n",
    "                     'tankThick'\n",
    "]\n",
    "\n",
    "# Creating an object to store excel variables\n",
    "class Parameters:\n",
    "    pass\n",
    "ex = Parameters()\n",
    "\n",
    "# Storing excel variables in object\n",
    "for variable in variables_to_pull:\n",
    "    value = pythonExcelPull.pythonExcelPull(df, variable)\n",
    "    setattr(ex, variable, value)"
   ]
  },
  {
   "cell_type": "markdown",
   "id": "ea55214e",
   "metadata": {},
   "source": [
    "# Define Input Chamber Parameters"
   ]
  },
  {
   "cell_type": "code",
   "execution_count": null,
   "id": "a8315add",
   "metadata": {},
   "outputs": [],
   "source": [
    "To = 3200 # Stagnation temperature (Kelvin)\n",
    "Po = 400 # Stagnation pressure (PSI)\n",
    "M = 2 # Mach number\n",
    "O/F = 10.2 # O/F ratio"
   ]
  },
  {
   "cell_type": "markdown",
   "id": "a2ba3f81",
   "metadata": {},
   "source": [
    "# Define Gas Constants"
   ]
  },
  {
   "cell_type": "code",
   "execution_count": null,
   "id": "1a37a6f5",
   "metadata": {},
   "outputs": [],
   "source": [
    "Cp = 1 # Specific Heat\n",
    "gamma = 1 # Ratio of specific heats\n",
    "mu = 1 # Viscosity\n",
    "\n",
    "def Pr(mu, cp, k): # Prandtl's number\n",
    "    return (mu*cp)/k\n",
    "\n",
    "def Re(D, v, rho, mu): # Reynold's number\n",
    "    return (D*v*rho)/mu\n",
    "\n",
    "def Nu(Pr, Re):\n",
    "    return 0.023*((Re)**(0.8))*((Pr)**(0.4))"
   ]
  },
  {
   "cell_type": "markdown",
   "id": "358248d7",
   "metadata": {},
   "source": [
    "# Define Heat Analysis Functions"
   ]
  },
  {
   "cell_type": "code",
   "execution_count": null,
   "id": "ce780f97",
   "metadata": {},
   "outputs": [],
   "source": [
    "def stat_temp(M, gamma, To):\n",
    "    return To*(1 + ((gamma - 1)/2) * M**2)**(-1)\n",
    "\n",
    "def stat_pressure(M, gamma, Po):\n",
    "    return Po*(1 + ((gamma - 1)/2) * M**2)**(-(gamma)/(gamma - 1))\n",
    "\n",
    "def T_rec():\n",
    "    return stat_temp(M, gamma, To)*(1 + ((gamma - 1)/2)*((Pr)**(1/3))*(M**2))\n",
    "\n",
    "def bartz(): # Bartz equation returns the enthalpy of the combusted gas\n",
    "    return (0.026/(D*(0.2)))*((cp*((mu)**(0.2)))/(Pr**(0.6)))*((rho*v)**(0.8))"
   ]
  }
 ],
 "metadata": {
  "kernelspec": {
   "display_name": "Python 3 (ipykernel)",
   "language": "python",
   "name": "python3"
  },
  "language_info": {
   "codemirror_mode": {
    "name": "ipython",
    "version": 3
   },
   "file_extension": ".py",
   "mimetype": "text/x-python",
   "name": "python",
   "nbconvert_exporter": "python",
   "pygments_lexer": "ipython3",
   "version": "3.11.5"
  }
 },
 "nbformat": 4,
 "nbformat_minor": 5
}
