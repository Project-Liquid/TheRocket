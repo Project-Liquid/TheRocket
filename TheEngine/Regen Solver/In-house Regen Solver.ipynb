{
 "cells": [
  {
   "cell_type": "code",
   "execution_count": 4,
   "id": "0aa3fe08",
   "metadata": {},
   "outputs": [],
   "source": [
    "import numpy as np\n",
    "import matplotlib.pyplot as plt\n",
    "import cantera as ct\n",
    "from CoolProp.CoolProp import PropsSI"
   ]
  },
  {
   "cell_type": "markdown",
   "id": "93caff65",
   "metadata": {},
   "source": [
    "# Pull values from Master Sheet"
   ]
  },
  {
   "cell_type": "code",
   "execution_count": 18,
   "id": "104748a5",
   "metadata": {},
   "outputs": [
    {
     "name": "stdout",
     "output_type": "stream",
     "text": [
      "C:\\Users\\Kidus\\Desktop\\TheRocket\n"
     ]
    }
   ],
   "source": [
    "import os\n",
    "import sys\n",
    "\n",
    "# Navigate to the parent directory ('TheRocket')\n",
    "os.chdir('C:/Users/Kidus/Desktop/TheRocket')\n",
    "# Now import your module\n",
    "import pythonExcelPull"
   ]
  },
  {
   "cell_type": "code",
   "execution_count": 20,
   "id": "56738d98",
   "metadata": {},
   "outputs": [],
   "source": [
    "import pandas as pd\n",
    "import pythonExcelPull\n",
    "\n",
    "#Must have openpyxl installed in python environment, separately from the pandas install! Pandas will call on this\n",
    "# Read the Excel file\n",
    "df = pd.read_excel('C:/Users/Kidus/Desktop/TheRocket/MasterParameters.xlsx')\n",
    "\n",
    "# List of variables to pull from the Excel file\n",
    "variables_to_pull = ['heightPayload',\n",
    "                     'heightNoseCone',\n",
    "                     'heightMainBay',\n",
    "                     'heightAvBay',\n",
    "                     'heightDrogueBay',\n",
    "                     'heightCoupler3',\n",
    "                     'heightOx',\n",
    "                     'heightFuel',\n",
    "                     'heightCoupler2',\n",
    "                     'heightCoupler1',\n",
    "                     'heightEngine',\n",
    "                     'OD',\n",
    "                     'tankThick'\n",
    "]\n",
    "\n",
    "# Creating an object to store excel variables\n",
    "class Parameters:\n",
    "    pass\n",
    "ex = Parameters()\n",
    "\n",
    "# Storing excel variables in object\n",
    "for variable in variables_to_pull:\n",
    "    value = pythonExcelPull.pythonExcelPull(df, variable)\n",
    "    setattr(ex, variable, value)"
   ]
  },
  {
   "cell_type": "markdown",
   "id": "ea55214e",
   "metadata": {},
   "source": [
    "# Input Chamber Parameters"
   ]
  },
  {
   "cell_type": "code",
   "execution_count": 22,
   "id": "a8315add",
   "metadata": {},
   "outputs": [],
   "source": [
    "To = 3200 # Stagnation temperature (Kelvin)\n",
    "Po = 400 # Stagnation pressure (PSI)\n",
    "OF = 10.2 # O/F ratio"
   ]
  },
  {
   "cell_type": "markdown",
   "id": "f3e5914c",
   "metadata": {},
   "source": [
    "# Input Chamber Geometry"
   ]
  },
  {
   "cell_type": "code",
   "execution_count": 23,
   "id": "31b58bcf",
   "metadata": {},
   "outputs": [],
   "source": [
    "# Pull from sizing notebook/spreadsheet"
   ]
  },
  {
   "cell_type": "markdown",
   "id": "98f1e010",
   "metadata": {},
   "source": [
    "# Input Nitrous & Ethane States"
   ]
  },
  {
   "cell_type": "code",
   "execution_count": 34,
   "id": "bf5e95f4",
   "metadata": {},
   "outputs": [],
   "source": [
    "# Nitrous, saturated liquid at 750 PSI\n",
    "\n",
    "coolant_name = 'NITROUSOXIDE'\n",
    "P_ni = 5.171e+6 # Pa\n",
    "\n",
    "rho_ni = PropsSI('D','P', P_ni,'Q',0, coolant_name)\n",
    "cp_ni = PropsSI('C','P', P_ni,'Q',0, coolant_name)\n",
    "k_ni = 17.4 # CoolProp does not store this value for nitrous\n",
    "mu_ni = 3.237e-3 # CoolProp does not store this value for nitrous\n",
    "Pr_ni = (cp_ni * mu_ni)/k_ni\n",
    "\n",
    "\n",
    "\n",
    "# Density, Cp, Mu, Pr, Re, Nu, Temperature\n",
    "\n",
    "# Ethane, saturated liquid at 550 PSI\n",
    "\n",
    "fuel_name = 'ETHANE'\n",
    "P_et = 3.792e+6 # Pa\n",
    "\n",
    "rho_et = PropsSI('D','P', P_et,'Q',0, fuel_name)\n",
    "cp_et = PropsSI('C','P', P_et,'Q',0, fuel_name)\n",
    "k_et = PropsSI('L','P', P_et,'Q',0, fuel_name)\n",
    "mu_et = PropsSI('V','P', P_et,'Q',0, fuel_name)\n",
    "Pr_et = (cp_et * mu_et)/k_et\n",
    "\n",
    "# Density, Cp, Mu, Pr, Re, Nu, Temperature"
   ]
  },
  {
   "cell_type": "markdown",
   "id": "17153933",
   "metadata": {},
   "source": [
    "Note: Nitrous properties that weren't listed in CoolProp came from the following sites:\n",
    "1. Thermal conductivity (k): https://www.engineersedge.com/heat_transfer/thermal-conductivity-gases.htm\n",
    "2. Viscosity (mu): https://rocketprops.readthedocs.io/en/latest/n2o_prop.html"
   ]
  },
  {
   "cell_type": "markdown",
   "id": "a0c41db9",
   "metadata": {},
   "source": [
    "# Input Cooling Channel Geometry"
   ]
  },
  {
   "cell_type": "code",
   "execution_count": 24,
   "id": "035e7652",
   "metadata": {},
   "outputs": [],
   "source": [
    "w = np.linspace(5e-4, 5e-3, 1000) # Channel width in meters\n",
    "h = np.linspace(5e-4, 5e-3, 1000) # Channel hieght in meters"
   ]
  },
  {
   "cell_type": "markdown",
   "id": "358248d7",
   "metadata": {},
   "source": [
    "# Define Heat Analysis Functions"
   ]
  },
  {
   "cell_type": "code",
   "execution_count": 35,
   "id": "ce780f97",
   "metadata": {},
   "outputs": [],
   "source": [
    "def stat_temp(M, gamma, To):\n",
    "    return To*(1 + ((gamma - 1)/2) * M**2)**(-1)\n",
    "\n",
    "def stat_pressure(M, gamma, Po):\n",
    "    return Po*(1 + ((gamma - 1)/2) * M**2)**(-(gamma)/(gamma - 1))\n",
    "\n",
    "def T_rec():\n",
    "    return stat_temp(M, gamma, To)*(1 + ((gamma - 1)/2)*((Pr)**(1/3))*(M**2))\n",
    "\n",
    "def bartz(): # Bartz equation returns the enthalpy of the combusted gas\n",
    "    return (0.026/(D*(0.2)))*((cp*((mu)**(0.2)))/(Pr**(0.6)))*((rho*v)**(0.8))*(rho_am/rho)*((mu_am/mu)**(0.2))\n",
    "\n",
    "def cyl_conv_R(r_o, r_i, k_ni):\n",
    "    return np.log(r_o/r_i)/(2*np.pi*k)\n",
    "\n",
    "def cyl_cond_R(r, h):\n",
    "    return 1/(2*np.pi*r*h)\n",
    "\n",
    "def R_net():\n",
    "    return cyl_cond_R(r, h_g) + cyl_cond_R(r, h_c) + np.log(r_o/r_i)/(2*np.pi*k_ni)\n",
    "    \n",
    "def heat_flow(T_h, T_c):\n",
    "    return (T_h - T_c)/R_net\n",
    "\n"
   ]
  }
 ],
 "metadata": {
  "kernelspec": {
   "display_name": "Python 3 (ipykernel)",
   "language": "python",
   "name": "python3"
  },
  "language_info": {
   "codemirror_mode": {
    "name": "ipython",
    "version": 3
   },
   "file_extension": ".py",
   "mimetype": "text/x-python",
   "name": "python",
   "nbconvert_exporter": "python",
   "pygments_lexer": "ipython3",
   "version": "3.11.5"
  }
 },
 "nbformat": 4,
 "nbformat_minor": 5
}
