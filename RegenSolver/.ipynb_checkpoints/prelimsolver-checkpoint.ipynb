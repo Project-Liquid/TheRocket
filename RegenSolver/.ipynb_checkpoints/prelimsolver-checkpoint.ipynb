{
 "cells": [
  {
   "cell_type": "markdown",
   "id": "09f90e8a-0976-4a66-bf33-a6d77fd63d3a",
   "metadata": {},
   "source": [
    "# Preliminary Regen Solver"
   ]
  },
  {
   "cell_type": "markdown",
   "id": "64bebf57-730f-44dd-bb36-096b241ad40c",
   "metadata": {},
   "source": [
    "### Import libraries"
   ]
  },
  {
   "cell_type": "code",
   "execution_count": 1,
   "id": "1e0852b3-cd06-42c1-8b35-1a9a338a8d76",
   "metadata": {},
   "outputs": [],
   "source": [
    "# general\n",
    "import os\n",
    "import numpy as np\n",
    "\n",
    "# thermo\n",
    "import cantera as ct\n",
    "\n",
    "# visualization / other\n",
    "import matplotlib.pyplot as plt"
   ]
  },
  {
   "cell_type": "markdown",
   "id": "f003f5ef",
   "metadata": {},
   "source": [
    "### Manage Directories"
   ]
  },
  {
   "cell_type": "code",
   "execution_count": 2,
   "id": "c8924bc6",
   "metadata": {},
   "outputs": [],
   "source": [
    "plotfolder = \"solverplots/\"\n",
    "if not os.path.exists(plotfolder):\n",
    "    os.mkdir(plotfolder)"
   ]
  },
  {
   "cell_type": "markdown",
   "id": "77ba0031-54f1-47fd-8335-5312f71fb2d3",
   "metadata": {},
   "source": [
    "### Main parameter defintions\n",
    "Define the main parameters below:"
   ]
  },
  {
   "cell_type": "code",
   "execution_count": 3,
   "id": "eca691ba-fd26-4faa-a5a1-8c23886982ed",
   "metadata": {},
   "outputs": [],
   "source": [
    "P0 = 2.758e+6 # First Chamber (Stagnation) Pressure Guess [Pa]\n",
    "Ti = 300      # First Chamber Inlet Temperature Guess [K]\n",
    "OF = 10.2     # OF ratio used"
   ]
  },
  {
   "cell_type": "markdown",
   "id": "771684d2-ac62-4644-9ae3-4ac9bd207c41",
   "metadata": {},
   "source": [
    "### Using Cantera to Find Exhaust Gas Properties in Chamber"
   ]
  },
  {
   "cell_type": "code",
   "execution_count": 4,
   "id": "8622316b-e1b9-4737-9929-ca175e8b4701",
   "metadata": {},
   "outputs": [
    {
     "name": "stdout",
     "output_type": "stream",
     "text": [
      "Enthalpy: 1441245.9601456434 [J]\n",
      "Stagnation temperature: 3281.188239511196 [K]\n",
      "Specific heat ratio: 1.2405024045277944 [-]\n",
      "Mean molecular weight: 26.203541670258993 [kg/kmol]\n"
     ]
    }
   ],
   "source": [
    "# Define gas\n",
    "gas = ct.Solution('gri30.yaml')          \n",
    "mixture = \"C2H6:1, N2O:{}\".format(OF)    # define mixture via mixture string\n",
    "gas.TPY = Ti, P0, mixture              # define state of gas before chemical balance\n",
    "gas.equilibrate(\"HP\")                  # equilibrate keeping enthalpy and pressure constant\n",
    "\n",
    "# Extract Preliminary Gas Properties\n",
    "h0 = gas.h  # gas enthalpy [J]\n",
    "T0 = gas.T  # stagnation temperature [K]\n",
    "kc = gas.cp / gas.cv # specific heat ratio in chamber\n",
    "MW = gas.mean_molecular_weight # average molecular weight of gas [kg / kmol]\n",
    "\n",
    "# Print Properties\n",
    "print(\"Enthalpy:\", h0, \"[J]\\nStagnation temperature:\", T0, \"[K]\\nSpecific heat ratio:\", kc, \"[-]\\nMean molecular weight:\", MW, \"[kg/kmol]\")"
   ]
  },
  {
   "cell_type": "markdown",
   "id": "a32db8e4",
   "metadata": {},
   "source": [
    "### Define Engine Geometry\n",
    "Defining Enginer Geometry as functions of axial position:\n",
    "- r(x) - radius of chamber\n",
    "- th(x) - thickness of chamber wall"
   ]
  },
  {
   "cell_type": "code",
   "execution_count": 6,
   "id": "0b8f7a34-4071-417d-97f6-30551661bb1d",
   "metadata": {},
   "outputs": [
    {
     "data": {
      "image/png": "[encoded data removed]",
      "text/plain": [
       "<Figure size 432x288 with 1 Axes>"
      ]
     },
     "metadata": {},
     "output_type": "display_data"
    }
   ],
   "source": [
    "# Manually defining inner chamber geometry as r(x) [m]\n",
    "x = [-0.1, -0.08, -0.025, -0.01, 0.158, 0.2]                 # axial position [m]       \n",
    "r = [0.127/2, 0.127/2, 0.127/2, 0.127/2, 0.0376/2, 0.02715]  # radius [m]\n",
    "\n",
    "# define function for thickness of chamber wall th(x)\n",
    "\n",
    "# Note: Currently Using Constant Thickness\n",
    "const_thickness = 0.005 # [m]\n",
    "def variable_thickness(x):\n",
    "    return const_thickness\n",
    "th = np.array([variable_thickness(_x) for _x in x ]) # thickness of chamber wall [m] \n",
    "    \n",
    "\n",
    "# plot chamber geometry\n",
    "fig, axs = plt.subplots()\n",
    "fig.set_facecolor('white')\n",
    "axs.plot(x, r, color = \"k\") # upper innner wall\n",
    "axs.plot(x, -np.array(r), color = \"k\") # lower inner wall\n",
    "axs.plot(x, np.add(r, th), color = \"k\") # upper outer wall\n",
    "axs.plot(x, np.subtract(-np.array(r), th), color = \"k\") # lower outer wall\n",
    "axs.grid()\n",
    "axs.set_xlabel(\"Axial Position (m)\")\n",
    "axs.set_ylabel(\"Radius (m)\")\n",
    "axs.set_title(\"Chamber Geometry\")\n",
    "axs.set_aspect('equal')\n",
    "plt.savefig(plotfolder + \"enginegeometry.png\", dpi=300)\n"
   ]
  },
  {
   "cell_type": "markdown",
   "id": "b89d4fc3",
   "metadata": {},
   "source": [
    "### Define Injector Geometry"
   ]
  },
  {
   "cell_type": "code",
   "execution_count": 7,
   "id": "62532d41",
   "metadata": {},
   "outputs": [],
   "source": [
    "\"\"\" PLACEHOLDER CODE \"\"\"\n",
    "Ao = 0 # total cross sectional area of orifice [m^2]"
   ]
  },
  {
   "cell_type": "code",
   "execution_count": null,
   "id": "5cbed37c",
   "metadata": {},
   "outputs": [],
   "source": []
  },
  {
   "cell_type": "markdown",
   "id": "c05f3adb",
   "metadata": {},
   "source": []
  }
 ],
 "metadata": {
  "kernelspec": {
   "display_name": "Python 3 (ipykernel)",
   "language": "python",
   "name": "python3"
  },
  "language_info": {
   "codemirror_mode": {
    "name": "ipython",
    "version": 3
   },
   "file_extension": ".py",
   "mimetype": "text/x-python",
   "name": "python",
   "nbconvert_exporter": "python",
   "pygments_lexer": "ipython3",
   "version": "3.9.7"
  }
 },
 "nbformat": 4,
 "nbformat_minor": 5
}
